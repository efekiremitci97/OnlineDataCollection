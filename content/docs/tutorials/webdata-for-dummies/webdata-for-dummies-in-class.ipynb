{
  "cells": [
    {
      "cell_type": "markdown",
      "metadata": {
        "id": "jFrRp506wEpA"
      },
      "source": [
        "# Web data for dummies (in-class)\n",
        "\n",
        "*The internet offers abundant possibilities to collect data for use in empirical research projects. This tutorial is a gentle introduction on how web scraping and APIs to collect such data in Python. Get inspired now!*\n",
        "\n",
        "## Learning Objectives\n",
        "\n",
        "After completion of this tutorial, students will be able to:\n",
        "\n",
        "* Explain the differences between retrieving data from websites vs. APIs\n",
        "* Retrieve web data in Python using the `requests` library, and store retrieved data in HTML or JSON/TXT files for further inspection.\n",
        "* Use browser control tools (\"inspect\") to develop strategies how to select and capture information from websites (e.g., text, numbers, pictures, etc.)\n",
        "* Select elements from websites using BeautifulSoup (e.g., class names, attribute or tag names)\n",
        "* Select elements from JSON dictionaries obtained through APIs (attribute-value pairs)\n",
        "* Apply programming concepts (e.g., loops, functions) to the collection of web data, and convert dictionaries to JSON files.\n",
        "* Understand the difference between Jupyter Notebooks and “raw” Python files, and run collection via the command line/terminal\n",
        "\n",
        "<div class=\"alert alert-block alert-info\"><b>Support Needed?</b> \n",
        "    For technical issues outside of scheduled classes, please check the <a href=\"https://odcm.hannesdatta.com/docs/course/support\" target=\"_blank\">support section</a> on the course website.\n",
        "</div>\n",
        "\n",
        "------"
      ]
    },
    {
      "cell_type": "markdown",
      "metadata": {
        "id": "ugCZszjOwEpC"
      },
      "source": [
        "---\n",
        "\n",
        "## 1. Web Scraping\n",
        "\n",
        "### 1.1 What is web scraping?\n",
        "\n",
        "Say that you want to capture and analyze data from a website. Of course, you could simply copy-paste the data from each page. But, of course, this manually executed job would have severe limitations. What if the data on the page gets updated (i.e., would you have time available to copy-paste the new data, too)? Or what if there are simply so many pages that you can't possibly do it all by hand (i.e., thousands of product pages)? \n",
        "\n",
        "Web scraping can help you overcome these issues __by programmatically extracting data from the web__. Before we can extract/grab/capture/scrape information from a website, we need a bit of background on how websites work technically, so let's focus on that first.\n"
      ]
    },
    {
      "cell_type": "markdown",
      "metadata": {
        "id": "eSyzCs0UwEpC"
      },
      "source": [
        "### 1.2. How websites work\n",
        "\n",
        "#### Importance\n",
        "\n",
        "It's vital to take some time to get familiar with HTML - the primary programming language used when building websites. Once we're familiar with HTML (and the structure of websites), we can rapidly navigate complex websites to extract the information we're interested in (e.g., prices, names of product categories, ...). In other words: to reach our end goal, we do have to give you some technical details first.\n",
        "\n",
        "So, here we go: A web page consists of various text files, each one with its style, formatting, and syntax. These files each serve a specific purpose:\n",
        "\n",
        "- `.html` (HyperText Markup Language) files give structure to a page (e.g., where's the menu?, which content to show (e.g., text, tables)?)\n",
        "- `.css` (Cascading Style Sheet) files determine how the page looks (e.g., which color do headers have? what's the font used for text in a paragraph?)\n",
        "- `.js` (JavaScript) files add interactivity (e.g., button animations)\n",
        "\n",
        "#### Let's try it out\n",
        "Check out this simple [example](https://codepen.io/rcyou/pen/QEObEk/). The site shows the source code of a site (`.html`, `.css`, and `.js`) in an online editor, along with a rendered (\"viewable\") version of the site. Once you make changes to the code, the site gets automatically updated.\n",
        "\n",
        "<img src=\"https://raw.githubusercontent.com/hannesdatta/course-odcm/dev/content/docs/tutorials/webdata-for-dummies/images/codepen.png\" align=\"left\" width=60%/>\n"
      ]
    },
    {
      "cell_type": "markdown",
      "metadata": {
        "id": "eTas9BSLwEpD"
      },
      "source": [
        "#### Exercise 1.1 \n",
        "Just to get a feeling for how things work, let's make the following changes in the [CodePen snippet](https://codepen.io/rcyou/pen/QEObEk/): \n",
        "1. Change the text between the `<h1>` tags to `I am a purple of size 3em`. \n",
        "2. Change the `h1` font-size to `3em` and the color to purple (add `color: purple;` below `margin-bottom`).  \n",
        "3. Remove the JavaScript code. What happens now when you click the blue button?\n",
        "\n",
        "\n",
        "#### Solutions\n",
        "Clicking the button should no longer trigger the script to hide the paragraph text.\n",
        "\n",
        "<img src=\"https://raw.githubusercontent.com/hannesdatta/course-odcm/dev/content/docs/tutorials/webdata-for-dummies/images/purple_headline.png\" align=\"left\" width=60%/>\n",
        "\n"
      ]
    },
    {
      "cell_type": "markdown",
      "metadata": {
        "id": "keIARf13wEpD"
      },
      "source": [
        "### 1.3 Advancing HTML skills\n",
        "\n",
        "#### Importance\n",
        "\n",
        "Most HTML elements are represented by a pair of tags - an opening tag and a closing tag. \n",
        "\n",
        "For example, a table starts with `<table>` and ends with `</table>`. The first tag tells the browser: \"Hey! I got a table here! Render it as a table, so it displays nicely on the site.\" The closing tag (note the forward-slash!) tells the browser: \"Hey! I'm all done with that table, thanks.\" Inside the table are nested more HTML tags representing rows (`<tr>`) and cells (`<td>`).\n"
      ]
    },
    {
      "cell_type": "markdown",
      "metadata": {
        "id": "2EH9JMUXwEpD"
      },
      "source": [
        "```html\n",
        "<html>\n",
        "    <table id=\"example-table\" class=\"striped-table\" style=\"width: 95%\">\n",
        "        <tr> <!-- Header row -->\n",
        "            <td>Column A</td>\n",
        "            <td>Column B</td>\n",
        "        </tr>\n",
        "        <tr> <!-- Row 1 --->\n",
        "            <td>Row 1, Column A</td>\n",
        "            <td>Row 1, Column B</td>\n",
        "        </tr>\n",
        "        <tr> <!-- Row 2 --->\n",
        "            <td>Row 2, Column A</td>\n",
        "            <td>Row 2, Column B</td>\n",
        "        </tr>\n",
        "    </table>\n",
        "</html>\n",
        "```"
      ]
    },
    {
      "cell_type": "markdown",
      "metadata": {
        "id": "_5Rj9YGKwEpD"
      },
      "source": [
        "This what the rendered HTML table looks like:"
      ]
    },
    {
      "cell_type": "markdown",
      "metadata": {
        "id": "yWXRkluNwEpE"
      },
      "source": [
        "<html>\n",
        "    <table id=\"example-table\" class=\"striped-table\" style=\"width: 95%\">\n",
        "        <tr> <!-- Header -->\n",
        "            <td>Column A</td>\n",
        "            <td>Column B</td>\n",
        "        </tr>\n",
        "        <tr> <!-- Row 1 --->\n",
        "            <td>Row 1, Column A</td>\n",
        "            <td>Row 1, Column B</td>\n",
        "        </tr>\n",
        "        <tr> <!-- Row 2 --->\n",
        "            <td>Row 2, Column A</td>\n",
        "            <td>Row 2, Column B</td>\n",
        "        </tr>\n",
        "    </table>\n",
        "</html>"
      ]
    },
    {
      "cell_type": "markdown",
      "metadata": {
        "id": "9v_fXYtywEpE"
      },
      "source": [
        "\n",
        "HTML elements can have any number of\n",
        "\n",
        "- __attributes__, such as IDs, which *uniquely* identify elements\n",
        "\n",
        "```html\n",
        "<table id=\"example-table\">\n",
        "```\n",
        "\n",
        "- __classes__, which identify a *type* of an element (contrary to ids, a class can be used more than once)\n",
        "\n",
        "```html\n",
        "<table class=\"striped-table\">\n",
        "```\n",
        "\n",
        "- and __styles__, which define how specific elements *appear* (e.g. the width of the table)\n",
        "\n",
        "```html\n",
        "<table style=\"width:95%;\">\n",
        "```\n",
        "\n",
        "As you may already have noticed, we use spaces (or tabs) to separate the elements from one another (the geeks among us will call this \"indentation\") to provide structure and improve readability. Yes, that's right. *Improve readability*.\n",
        "\n",
        "Code may look complex to read at first, but when you take a closer look at it, it boils down to simple English, following a particular structure (also known as syntax). For example, the `<table>` tag is placed farther to the right than the `<html>` tag indicates that the table is nested within the HTML block.\n",
        "\n",
        "This may be a lot to take in if you're entirely new to HTML, but don't worry, as the goal of this section is not to teach you how to code from scratch but rather to teach you what HTML is and why it is relevant for web scraping.\n"
      ]
    },
    {
      "cell_type": "markdown",
      "metadata": {
        "id": "fWaET2GkwEpE"
      },
      "source": [
        "__Let's try it out__\n",
        "\n",
        "Double-click on the rendered table below to edit its HTML structure. Try to change some simple things, e.g., the text. Rerun the cell (Shift + Enter, or click the Run button in Juypyter Notebook). Watch your changes come alive!\n"
      ]
    },
    {
      "cell_type": "markdown",
      "metadata": {
        "id": "LbtaejAUwEpE"
      },
      "source": [
        "#### Exercise 1.2\n",
        "\n",
        "Please finish the exercises below. After each change, rerun the cell.\n",
        "\n",
        "1. Add another row in the table above to become a 2 (columns) x 4 (rows) table. That is 3 regular rows and 1 table header row.\n",
        "2. Fill the cells with the corresponding text labels (e.g., Row 3, Column A). \n",
        "3. Change the table width to `50%` so that the table becomes narrower.\n",
        "\n",
        "\n",
        "<div class=\"alert alert-block alert-info\"><b>Proceed in small steps!</b> \n",
        "Try not to make too many changes at once. Always proceed in small steps to see whether your code still works!\n",
        "</div>\n"
      ]
    },
    {
      "cell_type": "markdown",
      "metadata": {
        "id": "vJLTgSf9wEpE"
      },
      "source": [
        "*Make your changes here:*"
      ]
    },
    {
      "cell_type": "markdown",
      "metadata": {
        "id": "6mIcYbYpwEpF"
      },
      "source": [
        "<html>\n",
        "    <table id=\"example-table\" class=\"striped-table\" style=\"width: 95%\">\n",
        "        <tr> <!-- Header -->\n",
        "            <td>Column A</td>\n",
        "            <td>Column B</td>\n",
        "        </tr>\n",
        "        <tr> <!-- Row 1 --->\n",
        "            <td>Row 1, Column A</td>\n",
        "            <td>Row 1, Column B</td>\n",
        "        </tr>\n",
        "        <tr> <!-- Row 2 --->\n",
        "            <td>Row 2, Column A</td>\n",
        "            <td>Row 2, Column B</td>\n",
        "        </tr>\n",
        "    </table>\n",
        "</html>"
      ]
    },
    {
      "cell_type": "markdown",
      "metadata": {
        "id": "gTWHcAltwEpF"
      },
      "source": [
        "**Solutions**\n",
        "<html>\n",
        "    <table id=\"example-table\" class=\"striped-table\" style=\"width: 50%\">\n",
        "        <tr> <!-- Header -->\n",
        "            <td>Column A</td>\n",
        "            <td>Column B</td>\n",
        "        </tr>\n",
        "        <tr> <!-- Row 1 --->\n",
        "            <td>Row 1, Column A</td>\n",
        "            <td>Row 1, Column B</td>\n",
        "        </tr>\n",
        "        <tr> <!-- Row 2 --->\n",
        "            <td>Row 2, Column A</td>\n",
        "            <td>Row 2, Column B</td>\n",
        "        </tr>\n",
        "        <tr> <!-- Row 3 --->\n",
        "            <td>Row 3, Column A</td>\n",
        "            <td>Row 3, Column B</td>\n",
        "        </tr>\n",
        "    </table>\n",
        "</html>"
      ]
    },
    {
      "cell_type": "markdown",
      "metadata": {
        "id": "nWs7BduBwEpF"
      },
      "source": [
        "--- \n",
        "### 1.4 Finding content in a website's source code\n",
        "\n",
        "#### Importance\n",
        "\n",
        "Alright, we've now covered tables (`<table>`). However, there are hundreds of different tag words in HTML, and it's impossible to memorize all of them. That's why developers use a pretty handy tool to *inspect the source* of a website directly in the browser. From now onwards, we recommend you to use Chrome (in Safari and Firefox, things look slightly different, and we can't cover those, unfortunately.)\n",
        "\n",
        "Suppose you have identified an element you want to capture (e.g., a price or the name of a product). You can \"ask\" your browser for the specific HTML tag of that object (so it becomes easier to capture that element later). \n",
        "\n",
        "#### Let's try it out \n",
        "\n",
        "\n",
        "How does it work? Start by inspecting specific elements on the page by *right-clicking on the page* and selecting __\"Inspect\"__ from the context menu that pops up. Then, hover over elements in the \"Elements\" tab to highlight them on the page. This can be super helpful when you're trying to figure out how to (uniquely) identify the element you want to scrape.\n",
        "\n",
        "Check out the HTML structure of this fictitious [online bookstore](https://books.toscrape.com/catalogue/a-light-in-the-attic_1000/index.html). Each of the 1000 books has its page, which shows the title, stock level, star rating, product description, and a table with other product information. Note that the prices and ratings are randomly generated, and therefore the figures on your screen may deviate from the ones below.\n"
      ]
    },
    {
      "cell_type": "markdown",
      "metadata": {
        "id": "I0iMOvTDwEpF"
      },
      "source": [
        "<img src=\"https://raw.githubusercontent.com/hannesdatta/course-odcm/dev/content/docs/tutorials/webdata-for-dummies/images/inspect.gif\" align=\"left\" width=60%/>"
      ]
    },
    {
      "cell_type": "markdown",
      "metadata": {
        "id": "DBCuEleDwEpF"
      },
      "source": [
        "In the screenshot above, we've selected the book title (\"A Light in the Attic\"), right-clicked on it, and chose \"Inspect.\" The same text is highlighted in blue in the HTML code below. \n",
        "\n",
        "__Try it out yourself!__\n",
        "\n",
        "The `<h1>` and `</h1>` tags surrounding the title indicate that this text is a header on the web page. Move your pointer down to the line below (`<p class=\"price_color\">£51.77</p>`), and you'll see that on the top screen, it now highlights the price (rather than the title) of the book. This way, you can quickly investigate any webpage. \n",
        "\n",
        "__Also try this out...!__\n",
        "\n",
        "As we discussed earlier, tags can be nested within other tags. This also becomes clear from the screenshot below, in which the small gray triangles (▶) indicate that there is code hidden within these blocks. Click on them to expand the code, see what's inside, and click again to collapse them.\n"
      ]
    },
    {
      "cell_type": "markdown",
      "metadata": {
        "id": "Da5fJCMPwEpF"
      },
      "source": [
        "<img src=\"https://raw.githubusercontent.com/hannesdatta/course-odcm/dev/content/docs/tutorials/webdata-for-dummies/images/html_structure.png\" align=\"left\" width=70%/>"
      ]
    },
    {
      "cell_type": "markdown",
      "metadata": {
        "id": "HaOs4onpwEpF"
      },
      "source": [
        "#### Exercise 1.3\n",
        "1. Use the inspect tool to find the HTML element that constitutes the table header \"**Number of reviews**\" at the bottom of [this page](https://books.toscrape.com/catalogue/a-light-in-the-attic_1000/index.html).\n",
        "2. Look up how many elements on the page are associated with the class `sub-header` (within the Inspector screen, use `Ctrl+F` on a PC or `⌘+F` on Mac to search)\n",
        "3. You can make local (only on your computer) changes to the web page by double-clicking in the inspector and swapping the code for something else (yes, you can overwrite what's already written there!). Change the price of the book to £39.95 and assign it a five star-rating. \n",
        "4. After making the changes in 3.), refresh the page (reload it). What happens (and why)?\n",
        "\n",
        "\n",
        "*A \"faked\" price and star-rating*\n",
        "\n",
        "<img src=\"https://raw.githubusercontent.com/hannesdatta/course-odcm/dev/content/docs/tutorials/webdata-for-dummies/images/exercise_inspector.png\" width=40% align=\"left\"  style=\"border: 1px solid black\"/>\n"
      ]
    },
    {
      "cell_type": "code",
      "execution_count": null,
      "metadata": {
        "id": "JPb9Ak9owEpG"
      },
      "outputs": [],
      "source": [
        "# your answer goes here!"
      ]
    },
    {
      "cell_type": "markdown",
      "metadata": {
        "id": "PShY0y0SwEpG"
      },
      "source": [
        "#### Solutions\n",
        "1. The `<th>` (table header) tags enclose the text \"Number of reviews.\" \n",
        "2. Three elements are associated with the class `sub-header` (product description, product information, reviews)\n",
        "3. The star rating can be changed from the class attribute to `star-rating Five`. Once you refresh the page, the original (unedited price and star rating) appears again.\n",
        "---\n"
      ]
    },
    {
      "cell_type": "markdown",
      "metadata": {
        "id": "fcX7xIJQwEpG"
      },
      "source": [
        "### 1.5 Loading a website's source code into Python\n",
        "\n",
        "#### Importance\n",
        "\n",
        "Alright. Up to this moment, we've learned about HTML and fiddled around with a website's source code. But we finally want to understand how we can load a website's source code into Python.\n",
        "\n",
        "Rather than (manually) using the Inspector, we now automate these tasks using Python's `requests` library. Libraries are \"extensions\" to Python, but most of them are not loaded by default. So let's import the library using `import requests`."
      ]
    },
    {
      "cell_type": "markdown",
      "metadata": {
        "id": "rSb3gWgLwEpG"
      },
      "source": [
        "#### Let's try it out"
      ]
    },
    {
      "cell_type": "markdown",
      "metadata": {
        "id": "0ZNUH762wEpG"
      },
      "source": [
        "Please (re)run the code cell below."
      ]
    },
    {
      "cell_type": "code",
      "execution_count": null,
      "metadata": {
        "id": "aKrB1EuVwEpH",
        "outputId": "4c2e0d1d-9b52-4f98-fdb3-c579b2dffe3c"
      },
      "outputs": [
        {
          "name": "stdout",
          "output_type": "stream",
          "text": [
            "\n",
            "\n",
            "<!DOCTYPE html>\n",
            "<!--[if lt IE 7]>      <html lang=\"en-us\" class=\"no-js lt-ie9 lt-ie8 lt-ie7\"> <![endif]-->\n",
            "<!--[if IE 7]>         <html lang=\"en-us\" class=\"no-js lt-ie9 lt-ie8\"> <![endif]-->\n",
            "<!--[if IE 8]>         <html lang=\"en-us\" class=\"no-js lt-ie9\"> <![endif]-->\n",
            "<!--[if gt IE 8]><!--> <html lang=\"en-us\" class=\"no-js\"> <!--<![endif]-->\n",
            "    <head>\n",
            "        <title>\n",
            "    A Light in the Attic | Books to Scrape - Sandbox\n",
            "</title>\n",
            "\n",
            "        <meta http-equiv=\"content-type\" content=\"text/html; charset=UTF-8\" />\n",
            "        <meta name=\"created\" content=\"24th Jun 2016 09:29\" />\n",
            "        <meta name=\"description\" content=\"\n",
            "    It&#39;s hard to imagine a world without A Light in the Attic. This now-classic collection of poetry and drawings from Shel Silverstein celebrates its 20th anniversary with this special edition. Silverstein&#39;s humorous and creative verse can amuse the dowdiest of readers. Lemon-faced adults and fidgety kids sit still and read these rhythmic words and laugh and smile and love th It&#39;s hard to imagine a world without A Light in the Attic. This now-classic collection of poetry and drawings from Shel Silverstein celebrates its 20th anniversary with this special edition. Silverstein&#39;s humorous and creative verse can amuse the dowdiest of readers. Lemon-faced adults and fidgety kids sit still and read these rhythmic words and laugh and smile and love that Silverstein. Need proof of his genius? RockabyeRockabye baby, in the treetopDon&#39;t you know a treetopIs no safe place to rock?And who put you up there,And your cradle, too?Baby, I think someone down here&#39;sGot it in for you. Shel, you never sounded so good. ...more\n",
            "\" />\n",
            "        <meta name=\"viewport\" content=\"width=device-width\" />\n",
            "        <meta name=\"robots\" content=\"NOARCHIVE,NOCACHE\" />\n",
            "\n",
            "        <!-- Le HTML5 shim, for IE6-8 support of HTML elements -->\n",
            "        <!--[if lt IE 9]>\n",
            "        <script src=\"//html5shim.googlecode.com/svn/trunk/html5.js\"></script>\n",
            "        <![endif]-->\n",
            "\n",
            "        \n",
            "            <link rel=\"shortcut icon\" href=\"../../static/oscar/favicon.ico\" />\n",
            "        \n",
            "\n",
            "        \n",
            "        \n",
            "    \n",
            "    \n",
            "        <link rel=\"stylesheet\" type=\"text/css\" href=\"../../static/oscar/css/styles.css\" />\n",
            "    \n",
            "    <link rel=\"stylesheet\" href=\"../../static/oscar/js/bootstrap-datetimepicker/bootstrap-datetimepicker.css\" />\n",
            "    <link rel=\"stylesheet\" type=\"text/css\" href=\"../../static/oscar/css/datetimepicker.css\" />\n",
            "\n",
            "\n",
            "        \n",
            "        \n",
            "\n",
            "        \n",
            "\n",
            "        \n",
            "            \n",
            "            \n",
            "\n",
            "        \n",
            "    </head>\n",
            "\n",
            "    <body id=\"default\" class=\"default\">\n",
            "        \n",
            "        \n",
            "    \n",
            "    \n",
            "    <header class=\"header container-fluid\">\n",
            "        <div class=\"page_inner\">\n",
            "            <div class=\"row\">\n",
            "                <div class=\"col-sm-8 h1\"><a href=\"../../index.html\">Books to Scrape</a><small> We love being scraped!</small>\n",
            "</div>\n",
            "\n",
            "                \n",
            "            </div>\n",
            "        </div>\n",
            "    </header>\n",
            "\n",
            "    \n",
            "    \n",
            "        <div class=\"container-fluid page\">\n",
            "            <div class=\"page_inner\">\n",
            "                \n",
            "<ul class=\"breadcrumb\">\n",
            "    <li>\n",
            "        <a href=\"../../index.html\">Home</a>\n",
            "    </li>\n",
            "    \n",
            "        \n",
            "        <li>\n",
            "            <a href=\"../category/books_1/index.html\">Books</a>\n",
            "        </li>\n",
            "        \n",
            "        <li>\n",
            "            <a href=\"../category/books/poetry_23/index.html\">Poetry</a>\n",
            "        </li>\n",
            "        \n",
            "        <li class=\"active\">A Light in the Attic</li>\n",
            "\n",
            "        \n",
            "        \n",
            "    \n",
            "</ul>\n",
            "\n",
            "                \n",
            "\n",
            "                \n",
            "\n",
            "\n",
            "\n",
            "<div id=\"messages\">\n",
            "\n",
            "</div>\n",
            "\n",
            "                \n",
            "                <div class=\"content\">\n",
            "                    \n",
            "\n",
            "                    \n",
            "                    <div id=\"promotions\">\n",
            "                        \n",
            "                    </div>\n",
            "\n",
            "                    \n",
            "                    <div id=\"content_inner\">\n",
            "\n",
            "<article class=\"product_page\"><!-- Start of product page -->\n",
            "\n",
            "    <div class=\"row\">\n",
            "\n",
            "        \n",
            "        <div class=\"col-sm-6\">\n",
            "            \n",
            "\n",
            "\n",
            "\n",
            "\n",
            "    \n",
            "\n",
            "    \n",
            "\n",
            "        \n",
            "        <div id=\"product_gallery\" class=\"carousel\">\n",
            "            <div class=\"thumbnail\">\n",
            "                <div class=\"carousel-inner\">\n",
            "                    <div class=\"item active\">\n",
            "                    \n",
            "                        \n",
            "                            <img src=\"../../media/cache/fe/72/fe72f0532301ec28892ae79a629a293c.jpg\" alt=\"A Light in the Attic\" />\n",
            "                        \n",
            "                    \n",
            "                    </div>\n",
            "                </div>\n",
            "            </div>\n",
            "        </div>\n",
            "\n",
            "    \n",
            "\n",
            "\n",
            "        </div>\n",
            "        \n",
            "\n",
            "        \n",
            "        <div class=\"col-sm-6 product_main\">\n",
            "            \n",
            "            \n",
            "            <h1>A Light in the Attic</h1>\n",
            "\n",
            "            \n",
            "                \n",
            "\n",
            "\n",
            "\n",
            "\n",
            "\n",
            "\n",
            "    \n",
            "        <p class=\"price_color\">Â£51.77</p>\n",
            "    \n",
            "\n",
            "<p class=\"instock availability\">\n",
            "    <i class=\"icon-ok\"></i>\n",
            "    \n",
            "        In stock (22 available)\n",
            "    \n",
            "</p>\n",
            "\n",
            "            \n",
            "\n",
            "            \n",
            "                \n",
            "\n",
            "\n",
            "\n",
            "    <p class=\"star-rating Three\">\n",
            "        <i class=\"icon-star\"></i>\n",
            "        <i class=\"icon-star\"></i>\n",
            "        <i class=\"icon-star\"></i>\n",
            "        <i class=\"icon-star\"></i>\n",
            "        <i class=\"icon-star\"></i>\n",
            "\n",
            "        <!-- <small><a href=\"/catalogue/a-light-in-the-attic_1000/reviews/\">\n",
            "        \n",
            "                \n",
            "                    0 customer reviews\n",
            "                \n",
            "        </a></small>\n",
            "         -->&nbsp;\n",
            "\n",
            "\n",
            "<!-- \n",
            "    <a id=\"write_review\" href=\"/catalogue/a-light-in-the-attic_1000/reviews/add/#addreview\" class=\"btn btn-success btn-sm\">\n",
            "        Write a review\n",
            "    </a>\n",
            "\n",
            " --></p>\n",
            "\n",
            "            \n",
            "\n",
            "            <hr/>\n",
            "\n",
            "            <div class=\"alert alert-warning\" role=\"alert\"><strong>Warning!</strong> This is a demo website for web scraping purposes. Prices and ratings here were randomly assigned and have no real meaning.</div>\n",
            "\n",
            "\n",
            "            \n",
            "                \n",
            "\n",
            "\n",
            "\n",
            "\n",
            "\n",
            "\n",
            "            \n",
            "        </div><!-- /col-sm-6 -->\n",
            "        \n",
            "\n",
            "    </div><!-- /row -->\n",
            "\n",
            "    \n",
            "        \n",
            "        <div id=\"product_description\" class=\"sub-header\">\n",
            "            <h2>Product Description</h2>\n",
            "        </div>\n",
            "        <p>It's hard to imagine a world without A Light in the Attic. This now-classic collection of poetry and drawings from Shel Silverstein celebrates its 20th anniversary with this special edition. Silverstein's humorous and creative verse can amuse the dowdiest of readers. Lemon-faced adults and fidgety kids sit still and read these rhythmic words and laugh and smile and love th It's hard to imagine a world without A Light in the Attic. This now-classic collection of poetry and drawings from Shel Silverstein celebrates its 20th anniversary with this special edition. Silverstein's humorous and creative verse can amuse the dowdiest of readers. Lemon-faced adults and fidgety kids sit still and read these rhythmic words and laugh and smile and love that Silverstein. Need proof of his genius? RockabyeRockabye baby, in the treetopDon't you know a treetopIs no safe place to rock?And who put you up there,And your cradle, too?Baby, I think someone down here'sGot it in for you. Shel, you never sounded so good. ...more</p>\n",
            "        \n",
            "    \n",
            "\n",
            "    \n",
            "    <div class=\"sub-header\">\n",
            "        <h2>Product Information</h2>\n",
            "    </div>\n",
            "    <table class=\"table table-striped\">\n",
            "        \n",
            "        <tr>\n",
            "            <th>UPC</th><td>a897fe39b1053632</td>\n",
            "        </tr>\n",
            "        \n",
            "        <tr>\n",
            "            <th>Product Type</th><td>Books</td>\n",
            "        </tr>\n",
            "\n",
            "        \n",
            "        \n",
            "            <tr>\n",
            "                <th>Price (excl. tax)</th><td>Â£51.77</td>\n",
            "            </tr>\n",
            "            \n",
            "                <tr>\n",
            "                    <th>Price (incl. tax)</th><td>Â£51.77</td>\n",
            "                </tr>\n",
            "                <tr>\n",
            "                    <th>Tax</th><td>Â£0.00</td>\n",
            "                </tr>\n",
            "            \n",
            "            <tr>\n",
            "                <th>Availability</th>\n",
            "                <td>In stock (22 available)</td>\n",
            "            </tr>\n",
            "        \n",
            "        \n",
            "        \n",
            "            <tr>\n",
            "                <th>Number of reviews</th>\n",
            "                <td>0</td>\n",
            "            </tr>\n",
            "        \n",
            "    </table>\n",
            "    \n",
            "\n",
            "    \n",
            "        \n",
            "        <section>\n",
            "            <div id=\"reviews\" class=\"sub-header\">\n",
            "            </div>\n",
            "        </section>\n",
            "        \n",
            "    \n",
            "\n",
            "    \n",
            "        \n",
            "    \n",
            "\n",
            "    \n",
            "\n",
            "\n",
            "\n",
            "    \n",
            "\n",
            "\n",
            "\n",
            "</article><!-- End of product page -->\n",
            "</div>\n",
            "                </div>\n",
            "            </div>\n",
            "        </div>\n",
            "    \n",
            "\n",
            "    \n",
            "<footer class=\"footer container-fluid\">\n",
            "    \n",
            "        \n",
            "    \n",
            "</footer>\n",
            "\n",
            "\n",
            "        \n",
            "        \n",
            "  \n",
            "            <!-- jQuery -->\n",
            "            <script src=\"http://ajax.googleapis.com/ajax/libs/jquery/1.9.1/jquery.min.js\"></script>\n",
            "            <script>window.jQuery || document.write('<script src=\"../../static/oscar/js/jquery/jquery-1.9.1.min.js\"><\\/script>')</script>\n",
            "        \n",
            "  \n",
            "\n",
            "\n",
            "        \n",
            "        \n",
            "    \n",
            "        \n",
            "    <!-- Twitter Bootstrap -->\n",
            "    <script type=\"text/javascript\" src=\"../../static/oscar/js/bootstrap3/bootstrap.min.js\"></script>\n",
            "    <!-- Oscar -->\n",
            "    <script src=\"../../static/oscar/js/oscar/ui.js\" type=\"text/javascript\" charset=\"utf-8\"></script>\n",
            "\n",
            "    <script src=\"../../static/oscar/js/bootstrap-datetimepicker/bootstrap-datetimepicker.js\" type=\"text/javascript\" charset=\"utf-8\"></script>\n",
            "    <script src=\"../../static/oscar/js/bootstrap-datetimepicker/locales/bootstrap-datetimepicker.all.js\" type=\"text/javascript\" charset=\"utf-8\"></script>\n",
            "\n",
            "\n",
            "        \n",
            "        \n",
            "    \n",
            "    \n",
            "\n",
            "    \n",
            "\n",
            "\n",
            "\n",
            "        \n",
            "        <script type=\"text/javascript\">\n",
            "            $(function() {\n",
            "                \n",
            "    \n",
            "    oscar.init();\n",
            "\n",
            "            });\n",
            "        </script>\n",
            "\n",
            "        \n",
            "        <!-- Version: N/A -->\n",
            "        \n",
            "    </body>\n",
            "</html>\n",
            "\n"
          ]
        }
      ],
      "source": [
        "import requests\n",
        "\n",
        "# make a get request to the \"A Light in the Attic\" webpage\n",
        "url = 'https://books.toscrape.com/catalogue/a-light-in-the-attic_1000/index.html'\n",
        "user_agent = {'User-agent': 'Mozilla/5.0'} # with the user agent, we let Python know for which browser version to retrieve the website\n",
        "book_request = requests.get(url, headers = user_agent)\n",
        "\n",
        "# return the source code from the request object\n",
        "book_source_code = book_request.text\n",
        "\n",
        "# print out the source code to verify you have loaded the correct page\n",
        "print(book_source_code)"
      ]
    },
    {
      "cell_type": "markdown",
      "metadata": {
        "id": "j1OpqjICwEpH"
      },
      "source": [
        "<div class=\"alert alert-block alert-info\"><b>Why are we using \"user agents\" when making website requests?</b>\n",
        "    <br>\n",
        "\n",
        "- User agents tell a browser which website version to return. For example, your smartphone's browser will request mobile versions of websites, whereas your laptop will request versions suited to larger screens.\n",
        "    \n",
        "- Changing the user agent is also your \"first wall of defense\" when being blocked during data collections. Later, we will learn about other ways to prevent being blocked from automatically extracting information from the web. \n",
        "    \n",
        "- Interested in the ethical aspects of retrieving publicly available web data? Check the relevant sections in [\"Fields of Gold\"](https://journals.sagepub.com/doi/abs/10.1177/00222429221100750?journalCode=jmxa).\n",
        " \n",
        "</div>\n"
      ]
    },
    {
      "cell_type": "markdown",
      "metadata": {
        "id": "c0eEyuElwEpH"
      },
      "source": [
        "#### Exercise 1.4\n",
        "1. Using the code snippet above, write a function (starting with `def download_website(url):`) that downloads the raw website data for [this product](https://books.toscrape.com/catalogue/shakespeares-sonnets_989/index.html), printing it to the screen. Remember to use the same number of spaces or tabs (\"indents\") when writing your function!\n",
        "2. Adapt the function (copy-paste first, relabel as `def save_website(url, filename):`), storing the website's raw code __in a file__ (that you can specify in the second parameter, `filename`). Recall that you can use previously learnt concepts, in specific `f=open(<filename>, 'w', encoding='utf-8')`, `f.write()`, and `f.close()`. Rerun the function on the URL above. Does it work?\n",
        "3. Write a loop to store the raw HTML source code for the first four books [from this page](https://books.toscrape.com/catalogue/category/books_1/index.html). Before starting, create an array/list of *dictionaries* (`books`) with URLs and filenames to store the websites. Use the previously written function `store_website(url, filename`) for this exercise.\n",
        "\n",
        "```\n",
        "books = [{'url': 'first_url',\n",
        "         'filename': 'filename1.html'},\n",
        "        {'url': 'second_url',\n",
        "         'filename': 'filename2.html'}]\n",
        "```\n",
        "         \n",
        "         \n"
      ]
    },
    {
      "cell_type": "code",
      "execution_count": null,
      "metadata": {
        "id": "JhM_JR-GwEpH"
      },
      "outputs": [],
      "source": [
        "# start with your code here"
      ]
    },
    {
      "cell_type": "markdown",
      "metadata": {
        "id": "ohapx4I9wEpH"
      },
      "source": [
        "#### Solutions "
      ]
    },
    {
      "cell_type": "code",
      "execution_count": null,
      "metadata": {
        "id": "haqUInwZwEpH",
        "outputId": "86bb24a5-e4b0-478a-d16e-24642d66cd6c"
      },
      "outputs": [
        {
          "name": "stdout",
          "output_type": "stream",
          "text": [
            "\n",
            "\n",
            "<!DOCTYPE html>\n",
            "<!--[if lt IE 7]>      <html lang=\"en-us\" class=\"no-js lt-ie9 lt-ie8 lt-ie7\"> <![endif]-->\n",
            "<!--[if IE 7]>         <html lang=\"en-us\" class=\"no-js lt-ie9 lt-ie8\"> <![endif]-->\n",
            "<!--[if IE 8]>         <html lang=\"en-us\" class=\"no-js lt-ie9\"> <![endif]-->\n",
            "<!--[if gt IE 8]><!--> <html lang=\"en-us\" class=\"no-js\"> <!--<![endif]-->\n",
            "    <head>\n",
            "        <title>\n",
            "    Shakespeare&#39;s Sonnets | Books to Scrape - Sandbox\n",
            "</title>\n",
            "\n",
            "        <meta http-equiv=\"content-type\" content=\"text/html; charset=UTF-8\" />\n",
            "        <meta name=\"created\" content=\"24th Jun 2016 09:29\" />\n",
            "        <meta name=\"description\" content=\"\n",
            "    This book is an important and complete collection of the Sonnets of William Shakespeare. Most readers are aware of the great plays and manuscripts written for the stage, but are unaware of the magnificent Sonnets which were written around the same period. This is an excellent, complete collection of the Sonnets and poetry of William Shakespeare and should not be missed by This book is an important and complete collection of the Sonnets of William Shakespeare. Most readers are aware of the great plays and manuscripts written for the stage, but are unaware of the magnificent Sonnets which were written around the same period. This is an excellent, complete collection of the Sonnets and poetry of William Shakespeare and should not be missed by those interested in the completion of a collection of his writings and those interested in early poetic works. ...more\n",
            "\" />\n",
            "        <meta name=\"viewport\" content=\"width=device-width\" />\n",
            "        <meta name=\"robots\" content=\"NOARCHIVE,NOCACHE\" />\n",
            "\n",
            "        <!-- Le HTML5 shim, for IE6-8 support of HTML elements -->\n",
            "        <!--[if lt IE 9]>\n",
            "        <script src=\"//html5shim.googlecode.com/svn/trunk/html5.js\"></script>\n",
            "        <![endif]-->\n",
            "\n",
            "        \n",
            "            <link rel=\"shortcut icon\" href=\"../../static/oscar/favicon.ico\" />\n",
            "        \n",
            "\n",
            "        \n",
            "        \n",
            "    \n",
            "    \n",
            "        <link rel=\"stylesheet\" type=\"text/css\" href=\"../../static/oscar/css/styles.css\" />\n",
            "    \n",
            "    <link rel=\"stylesheet\" href=\"../../static/oscar/js/bootstrap-datetimepicker/bootstrap-datetimepicker.css\" />\n",
            "    <link rel=\"stylesheet\" type=\"text/css\" href=\"../../static/oscar/css/datetimepicker.css\" />\n",
            "\n",
            "\n",
            "        \n",
            "        \n",
            "\n",
            "        \n",
            "\n",
            "        \n",
            "            \n",
            "            \n",
            "\n",
            "        \n",
            "    </head>\n",
            "\n",
            "    <body id=\"default\" class=\"default\">\n",
            "        \n",
            "        \n",
            "    \n",
            "    \n",
            "    <header class=\"header container-fluid\">\n",
            "        <div class=\"page_inner\">\n",
            "            <div class=\"row\">\n",
            "                <div class=\"col-sm-8 h1\"><a href=\"../../index.html\">Books to Scrape</a><small> We love being scraped!</small>\n",
            "</div>\n",
            "\n",
            "                \n",
            "            </div>\n",
            "        </div>\n",
            "    </header>\n",
            "\n",
            "    \n",
            "    \n",
            "        <div class=\"container-fluid page\">\n",
            "            <div class=\"page_inner\">\n",
            "                \n",
            "<ul class=\"breadcrumb\">\n",
            "    <li>\n",
            "        <a href=\"../../index.html\">Home</a>\n",
            "    </li>\n",
            "    \n",
            "        \n",
            "        <li>\n",
            "            <a href=\"../category/books_1/index.html\">Books</a>\n",
            "        </li>\n",
            "        \n",
            "        <li>\n",
            "            <a href=\"../category/books/poetry_23/index.html\">Poetry</a>\n",
            "        </li>\n",
            "        \n",
            "        <li class=\"active\">Shakespeare&#39;s Sonnets</li>\n",
            "\n",
            "        \n",
            "        \n",
            "    \n",
            "</ul>\n",
            "\n",
            "                \n",
            "\n",
            "                \n",
            "\n",
            "\n",
            "\n",
            "<div id=\"messages\">\n",
            "\n",
            "</div>\n",
            "\n",
            "                \n",
            "                <div class=\"content\">\n",
            "                    \n",
            "\n",
            "                    \n",
            "                    <div id=\"promotions\">\n",
            "                        \n",
            "                    </div>\n",
            "\n",
            "                    \n",
            "                    <div id=\"content_inner\">\n",
            "\n",
            "<article class=\"product_page\"><!-- Start of product page -->\n",
            "\n",
            "    <div class=\"row\">\n",
            "\n",
            "        \n",
            "        <div class=\"col-sm-6\">\n",
            "            \n",
            "\n",
            "\n",
            "\n",
            "\n",
            "    \n",
            "\n",
            "    \n",
            "\n",
            "        \n",
            "        <div id=\"product_gallery\" class=\"carousel\">\n",
            "            <div class=\"thumbnail\">\n",
            "                <div class=\"carousel-inner\">\n",
            "                    <div class=\"item active\">\n",
            "                    \n",
            "                        \n",
            "                            <img src=\"../../media/cache/4d/7a/4d7a79a8be80a529b277ed5c4d8ba482.jpg\" alt=\"Shakespeare&#39;s Sonnets\" />\n",
            "                        \n",
            "                    \n",
            "                    </div>\n",
            "                </div>\n",
            "            </div>\n",
            "        </div>\n",
            "\n",
            "    \n",
            "\n",
            "\n",
            "        </div>\n",
            "        \n",
            "\n",
            "        \n",
            "        <div class=\"col-sm-6 product_main\">\n",
            "            \n",
            "            \n",
            "            <h1>Shakespeare&#39;s Sonnets</h1>\n",
            "\n",
            "            \n",
            "                \n",
            "\n",
            "\n",
            "\n",
            "\n",
            "\n",
            "\n",
            "    \n",
            "        <p class=\"price_color\">Â£20.66</p>\n",
            "    \n",
            "\n",
            "<p class=\"instock availability\">\n",
            "    <i class=\"icon-ok\"></i>\n",
            "    \n",
            "        In stock (19 available)\n",
            "    \n",
            "</p>\n",
            "\n",
            "            \n",
            "\n",
            "            \n",
            "                \n",
            "\n",
            "\n",
            "\n",
            "    <p class=\"star-rating Four\">\n",
            "        <i class=\"icon-star\"></i>\n",
            "        <i class=\"icon-star\"></i>\n",
            "        <i class=\"icon-star\"></i>\n",
            "        <i class=\"icon-star\"></i>\n",
            "        <i class=\"icon-star\"></i>\n",
            "\n",
            "        <!-- <small><a href=\"/catalogue/shakespeares-sonnets_989/reviews/\">\n",
            "        \n",
            "                \n",
            "                    0 customer reviews\n",
            "                \n",
            "        </a></small>\n",
            "         -->&nbsp;\n",
            "\n",
            "\n",
            "<!-- \n",
            "    <a id=\"write_review\" href=\"/catalogue/shakespeares-sonnets_989/reviews/add/#addreview\" class=\"btn btn-success btn-sm\">\n",
            "        Write a review\n",
            "    </a>\n",
            "\n",
            " --></p>\n",
            "\n",
            "            \n",
            "\n",
            "            <hr/>\n",
            "\n",
            "            <div class=\"alert alert-warning\" role=\"alert\"><strong>Warning!</strong> This is a demo website for web scraping purposes. Prices and ratings here were randomly assigned and have no real meaning.</div>\n",
            "\n",
            "\n",
            "            \n",
            "                \n",
            "\n",
            "\n",
            "\n",
            "\n",
            "\n",
            "\n",
            "            \n",
            "        </div><!-- /col-sm-6 -->\n",
            "        \n",
            "\n",
            "    </div><!-- /row -->\n",
            "\n",
            "    \n",
            "        \n",
            "        <div id=\"product_description\" class=\"sub-header\">\n",
            "            <h2>Product Description</h2>\n",
            "        </div>\n",
            "        <p>This book is an important and complete collection of the Sonnets of William Shakespeare. Most readers are aware of the great plays and manuscripts written for the stage, but are unaware of the magnificent Sonnets which were written around the same period. This is an excellent, complete collection of the Sonnets and poetry of William Shakespeare and should not be missed by This book is an important and complete collection of the Sonnets of William Shakespeare. Most readers are aware of the great plays and manuscripts written for the stage, but are unaware of the magnificent Sonnets which were written around the same period. This is an excellent, complete collection of the Sonnets and poetry of William Shakespeare and should not be missed by those interested in the completion of a collection of his writings and those interested in early poetic works. ...more</p>\n",
            "        \n",
            "    \n",
            "\n",
            "    \n",
            "    <div class=\"sub-header\">\n",
            "        <h2>Product Information</h2>\n",
            "    </div>\n",
            "    <table class=\"table table-striped\">\n",
            "        \n",
            "        <tr>\n",
            "            <th>UPC</th><td>30a7f60cd76ca58c</td>\n",
            "        </tr>\n",
            "        \n",
            "        <tr>\n",
            "            <th>Product Type</th><td>Books</td>\n",
            "        </tr>\n",
            "\n",
            "        \n",
            "        \n",
            "            <tr>\n",
            "                <th>Price (excl. tax)</th><td>Â£20.66</td>\n",
            "            </tr>\n",
            "            \n",
            "                <tr>\n",
            "                    <th>Price (incl. tax)</th><td>Â£20.66</td>\n",
            "                </tr>\n",
            "                <tr>\n",
            "                    <th>Tax</th><td>Â£0.00</td>\n",
            "                </tr>\n",
            "            \n",
            "            <tr>\n",
            "                <th>Availability</th>\n",
            "                <td>In stock (19 available)</td>\n",
            "            </tr>\n",
            "        \n",
            "        \n",
            "        \n",
            "            <tr>\n",
            "                <th>Number of reviews</th>\n",
            "                <td>0</td>\n",
            "            </tr>\n",
            "        \n",
            "    </table>\n",
            "    \n",
            "\n",
            "    \n",
            "        \n",
            "        <section>\n",
            "            <div id=\"reviews\" class=\"sub-header\">\n",
            "            </div>\n",
            "        </section>\n",
            "        \n",
            "    \n",
            "\n",
            "    \n",
            "        \n",
            "    \n",
            "\n",
            "    \n",
            "\n",
            "\n",
            "\n",
            "    \n",
            "        <div class=\"sub-header\">\n",
            "            <h2>Products you recently viewed</h2>\n",
            "        </div>\n",
            "\n",
            "        <ul class=\"row\">\n",
            "            \n",
            "                <li class=\"col-xs-6 col-sm-4 col-md-3 col-lg-3\">\n",
            "\n",
            "\n",
            "\n",
            "\n",
            "\n",
            "\n",
            "    <article class=\"product_pod\">\n",
            "        \n",
            "            <div class=\"image_container\">\n",
            "                \n",
            "                    \n",
            "                    <a href=\"../starving-hearts-triangular-trade-trilogy-1_990/index.html\"><img src=\"../../media/cache/be/f4/bef44da28c98f905a3ebec0b87be8530.jpg\" alt=\"Starving Hearts (Triangular Trade Trilogy, #1)\" class=\"thumbnail\"></a>\n",
            "                    \n",
            "                \n",
            "            </div>\n",
            "        \n",
            "\n",
            "        \n",
            "            \n",
            "                <p class=\"star-rating Two\">\n",
            "                    <i class=\"icon-star\"></i>\n",
            "                    <i class=\"icon-star\"></i>\n",
            "                    <i class=\"icon-star\"></i>\n",
            "                    <i class=\"icon-star\"></i>\n",
            "                    <i class=\"icon-star\"></i>\n",
            "                </p>\n",
            "            \n",
            "        \n",
            "\n",
            "        \n",
            "            <h3><a href=\"../starving-hearts-triangular-trade-trilogy-1_990/index.html\" title=\"Starving Hearts (Triangular Trade Trilogy, #1)\">Starving Hearts (Triangular Trade ...</a></h3>\n",
            "        \n",
            "\n",
            "        \n",
            "            <div class=\"product_price\">\n",
            "                \n",
            "\n",
            "\n",
            "\n",
            "\n",
            "\n",
            "\n",
            "    \n",
            "        <p class=\"price_color\">Â£13.99</p>\n",
            "    \n",
            "\n",
            "<p class=\"instock availability\">\n",
            "    <i class=\"icon-ok\"></i>\n",
            "    \n",
            "        In stock\n",
            "    \n",
            "</p>\n",
            "\n",
            "                \n",
            "                    \n",
            "\n",
            "\n",
            "\n",
            "\n",
            "\n",
            "\n",
            "    \n",
            "    <form>\n",
            "        <button type=\"submit\" class=\"btn btn-primary btn-block\" data-loading-text=\"Adding...\">Add to basket</button>\n",
            "    </form>\n",
            "\n",
            "\n",
            "                \n",
            "            </div>\n",
            "        \n",
            "    </article>\n",
            "\n",
            "</li>\n",
            "            \n",
            "                <li class=\"col-xs-6 col-sm-4 col-md-3 col-lg-3\">\n",
            "\n",
            "\n",
            "\n",
            "\n",
            "\n",
            "\n",
            "    <article class=\"product_pod\">\n",
            "        \n",
            "            <div class=\"image_container\">\n",
            "                \n",
            "                    \n",
            "                    <a href=\"../the-black-maria_991/index.html\"><img src=\"../../media/cache/58/46/5846057e28022268153beff6d352b06c.jpg\" alt=\"The Black Maria\" class=\"thumbnail\"></a>\n",
            "                    \n",
            "                \n",
            "            </div>\n",
            "        \n",
            "\n",
            "        \n",
            "            \n",
            "                <p class=\"star-rating One\">\n",
            "                    <i class=\"icon-star\"></i>\n",
            "                    <i class=\"icon-star\"></i>\n",
            "                    <i class=\"icon-star\"></i>\n",
            "                    <i class=\"icon-star\"></i>\n",
            "                    <i class=\"icon-star\"></i>\n",
            "                </p>\n",
            "            \n",
            "        \n",
            "\n",
            "        \n",
            "            <h3><a href=\"../the-black-maria_991/index.html\" title=\"The Black Maria\">The Black Maria</a></h3>\n",
            "        \n",
            "\n",
            "        \n",
            "            <div class=\"product_price\">\n",
            "                \n",
            "\n",
            "\n",
            "\n",
            "\n",
            "\n",
            "\n",
            "    \n",
            "        <p class=\"price_color\">Â£52.15</p>\n",
            "    \n",
            "\n",
            "<p class=\"instock availability\">\n",
            "    <i class=\"icon-ok\"></i>\n",
            "    \n",
            "        In stock\n",
            "    \n",
            "</p>\n",
            "\n",
            "                \n",
            "                    \n",
            "\n",
            "\n",
            "\n",
            "\n",
            "\n",
            "\n",
            "    \n",
            "    <form>\n",
            "        <button type=\"submit\" class=\"btn btn-primary btn-block\" data-loading-text=\"Adding...\">Add to basket</button>\n",
            "    </form>\n",
            "\n",
            "\n",
            "                \n",
            "            </div>\n",
            "        \n",
            "    </article>\n",
            "\n",
            "</li>\n",
            "            \n",
            "                <li class=\"col-xs-6 col-sm-4 col-md-3 col-lg-3\">\n",
            "\n",
            "\n",
            "\n",
            "\n",
            "\n",
            "\n",
            "    <article class=\"product_pod\">\n",
            "        \n",
            "            <div class=\"image_container\">\n",
            "                \n",
            "                    \n",
            "                    <a href=\"../the-boys-in-the-boat-nine-americans-and-their-epic-quest-for-gold-at-the-1936-berlin-olympics_992/index.html\"><img src=\"../../media/cache/66/88/66883b91f6804b2323c8369331cb7dd1.jpg\" alt=\"The Boys in the Boat: Nine Americans and Their Epic Quest for Gold at the 1936 Berlin Olympics\" class=\"thumbnail\"></a>\n",
            "                    \n",
            "                \n",
            "            </div>\n",
            "        \n",
            "\n",
            "        \n",
            "            \n",
            "                <p class=\"star-rating Four\">\n",
            "                    <i class=\"icon-star\"></i>\n",
            "                    <i class=\"icon-star\"></i>\n",
            "                    <i class=\"icon-star\"></i>\n",
            "                    <i class=\"icon-star\"></i>\n",
            "                    <i class=\"icon-star\"></i>\n",
            "                </p>\n",
            "            \n",
            "        \n",
            "\n",
            "        \n",
            "            <h3><a href=\"../the-boys-in-the-boat-nine-americans-and-their-epic-quest-for-gold-at-the-1936-berlin-olympics_992/index.html\" title=\"The Boys in the Boat: Nine Americans and Their Epic Quest for Gold at the 1936 Berlin Olympics\">The Boys in the ...</a></h3>\n",
            "        \n",
            "\n",
            "        \n",
            "            <div class=\"product_price\">\n",
            "                \n",
            "\n",
            "\n",
            "\n",
            "\n",
            "\n",
            "\n",
            "    \n",
            "        <p class=\"price_color\">Â£22.60</p>\n",
            "    \n",
            "\n",
            "<p class=\"instock availability\">\n",
            "    <i class=\"icon-ok\"></i>\n",
            "    \n",
            "        In stock\n",
            "    \n",
            "</p>\n",
            "\n",
            "                \n",
            "                    \n",
            "\n",
            "\n",
            "\n",
            "\n",
            "\n",
            "\n",
            "    \n",
            "    <form>\n",
            "        <button type=\"submit\" class=\"btn btn-primary btn-block\" data-loading-text=\"Adding...\">Add to basket</button>\n",
            "    </form>\n",
            "\n",
            "\n",
            "                \n",
            "            </div>\n",
            "        \n",
            "    </article>\n",
            "\n",
            "</li>\n",
            "            \n",
            "                <li class=\"col-xs-6 col-sm-4 col-md-3 col-lg-3\">\n",
            "\n",
            "\n",
            "\n",
            "\n",
            "\n",
            "\n",
            "    <article class=\"product_pod\">\n",
            "        \n",
            "            <div class=\"image_container\">\n",
            "                \n",
            "                    \n",
            "                    <a href=\"../the-coming-woman-a-novel-based-on-the-life-of-the-infamous-feminist-victoria-woodhull_993/index.html\"><img src=\"../../media/cache/3d/54/3d54940e57e662c4dd1f3ff00c78cc64.jpg\" alt=\"The Coming Woman: A Novel Based on the Life of the Infamous Feminist, Victoria Woodhull\" class=\"thumbnail\"></a>\n",
            "                    \n",
            "                \n",
            "            </div>\n",
            "        \n",
            "\n",
            "        \n",
            "            \n",
            "                <p class=\"star-rating Three\">\n",
            "                    <i class=\"icon-star\"></i>\n",
            "                    <i class=\"icon-star\"></i>\n",
            "                    <i class=\"icon-star\"></i>\n",
            "                    <i class=\"icon-star\"></i>\n",
            "                    <i class=\"icon-star\"></i>\n",
            "                </p>\n",
            "            \n",
            "        \n",
            "\n",
            "        \n",
            "            <h3><a href=\"../the-coming-woman-a-novel-based-on-the-life-of-the-infamous-feminist-victoria-woodhull_993/index.html\" title=\"The Coming Woman: A Novel Based on the Life of the Infamous Feminist, Victoria Woodhull\">The Coming Woman: A ...</a></h3>\n",
            "        \n",
            "\n",
            "        \n",
            "            <div class=\"product_price\">\n",
            "                \n",
            "\n",
            "\n",
            "\n",
            "\n",
            "\n",
            "\n",
            "    \n",
            "        <p class=\"price_color\">Â£17.93</p>\n",
            "    \n",
            "\n",
            "<p class=\"instock availability\">\n",
            "    <i class=\"icon-ok\"></i>\n",
            "    \n",
            "        In stock\n",
            "    \n",
            "</p>\n",
            "\n",
            "                \n",
            "                    \n",
            "\n",
            "\n",
            "\n",
            "\n",
            "\n",
            "\n",
            "    \n",
            "    <form>\n",
            "        <button type=\"submit\" class=\"btn btn-primary btn-block\" data-loading-text=\"Adding...\">Add to basket</button>\n",
            "    </form>\n",
            "\n",
            "\n",
            "                \n",
            "            </div>\n",
            "        \n",
            "    </article>\n",
            "\n",
            "</li>\n",
            "            \n",
            "                <li class=\"col-xs-6 col-sm-4 col-md-3 col-lg-3\">\n",
            "\n",
            "\n",
            "\n",
            "\n",
            "\n",
            "\n",
            "    <article class=\"product_pod\">\n",
            "        \n",
            "            <div class=\"image_container\">\n",
            "                \n",
            "                    \n",
            "                    <a href=\"../the-dirty-little-secrets-of-getting-your-dream-job_994/index.html\"><img src=\"../../media/cache/92/27/92274a95b7c251fea59a2b8a78275ab4.jpg\" alt=\"The Dirty Little Secrets of Getting Your Dream Job\" class=\"thumbnail\"></a>\n",
            "                    \n",
            "                \n",
            "            </div>\n",
            "        \n",
            "\n",
            "        \n",
            "            \n",
            "                <p class=\"star-rating Four\">\n",
            "                    <i class=\"icon-star\"></i>\n",
            "                    <i class=\"icon-star\"></i>\n",
            "                    <i class=\"icon-star\"></i>\n",
            "                    <i class=\"icon-star\"></i>\n",
            "                    <i class=\"icon-star\"></i>\n",
            "                </p>\n",
            "            \n",
            "        \n",
            "\n",
            "        \n",
            "            <h3><a href=\"../the-dirty-little-secrets-of-getting-your-dream-job_994/index.html\" title=\"The Dirty Little Secrets of Getting Your Dream Job\">The Dirty Little Secrets ...</a></h3>\n",
            "        \n",
            "\n",
            "        \n",
            "            <div class=\"product_price\">\n",
            "                \n",
            "\n",
            "\n",
            "\n",
            "\n",
            "\n",
            "\n",
            "    \n",
            "        <p class=\"price_color\">Â£33.34</p>\n",
            "    \n",
            "\n",
            "<p class=\"instock availability\">\n",
            "    <i class=\"icon-ok\"></i>\n",
            "    \n",
            "        In stock\n",
            "    \n",
            "</p>\n",
            "\n",
            "                \n",
            "                    \n",
            "\n",
            "\n",
            "\n",
            "\n",
            "\n",
            "\n",
            "    \n",
            "    <form>\n",
            "        <button type=\"submit\" class=\"btn btn-primary btn-block\" data-loading-text=\"Adding...\">Add to basket</button>\n",
            "    </form>\n",
            "\n",
            "\n",
            "                \n",
            "            </div>\n",
            "        \n",
            "    </article>\n",
            "\n",
            "</li>\n",
            "            \n",
            "                <li class=\"col-xs-6 col-sm-4 col-md-3 col-lg-3\">\n",
            "\n",
            "\n",
            "\n",
            "\n",
            "\n",
            "\n",
            "    <article class=\"product_pod\">\n",
            "        \n",
            "            <div class=\"image_container\">\n",
            "                \n",
            "                    \n",
            "                    <a href=\"../the-requiem-red_995/index.html\"><img src=\"../../media/cache/68/33/68339b4c9bc034267e1da611ab3b34f8.jpg\" alt=\"The Requiem Red\" class=\"thumbnail\"></a>\n",
            "                    \n",
            "                \n",
            "            </div>\n",
            "        \n",
            "\n",
            "        \n",
            "            \n",
            "                <p class=\"star-rating One\">\n",
            "                    <i class=\"icon-star\"></i>\n",
            "                    <i class=\"icon-star\"></i>\n",
            "                    <i class=\"icon-star\"></i>\n",
            "                    <i class=\"icon-star\"></i>\n",
            "                    <i class=\"icon-star\"></i>\n",
            "                </p>\n",
            "            \n",
            "        \n",
            "\n",
            "        \n",
            "            <h3><a href=\"../the-requiem-red_995/index.html\" title=\"The Requiem Red\">The Requiem Red</a></h3>\n",
            "        \n",
            "\n",
            "        \n",
            "            <div class=\"product_price\">\n",
            "                \n",
            "\n",
            "\n",
            "\n",
            "\n",
            "\n",
            "\n",
            "    \n",
            "        <p class=\"price_color\">Â£22.65</p>\n",
            "    \n",
            "\n",
            "<p class=\"instock availability\">\n",
            "    <i class=\"icon-ok\"></i>\n",
            "    \n",
            "        In stock\n",
            "    \n",
            "</p>\n",
            "\n",
            "                \n",
            "                    \n",
            "\n",
            "\n",
            "\n",
            "\n",
            "\n",
            "\n",
            "    \n",
            "    <form>\n",
            "        <button type=\"submit\" class=\"btn btn-primary btn-block\" data-loading-text=\"Adding...\">Add to basket</button>\n",
            "    </form>\n",
            "\n",
            "\n",
            "                \n",
            "            </div>\n",
            "        \n",
            "    </article>\n",
            "\n",
            "</li>\n",
            "            \n",
            "        </ul>\n",
            "    \n",
            "\n",
            "\n",
            "\n",
            "</article><!-- End of product page -->\n",
            "</div>\n",
            "                </div>\n",
            "            </div>\n",
            "        </div>\n",
            "    \n",
            "\n",
            "    \n",
            "<footer class=\"footer container-fluid\">\n",
            "    \n",
            "        \n",
            "    \n",
            "</footer>\n",
            "\n",
            "\n",
            "        \n",
            "        \n",
            "  \n",
            "            <!-- jQuery -->\n",
            "            <script src=\"http://ajax.googleapis.com/ajax/libs/jquery/1.9.1/jquery.min.js\"></script>\n",
            "            <script>window.jQuery || document.write('<script src=\"../../static/oscar/js/jquery/jquery-1.9.1.min.js\"><\\/script>')</script>\n",
            "        \n",
            "  \n",
            "\n",
            "\n",
            "        \n",
            "        \n",
            "    \n",
            "        \n",
            "    <!-- Twitter Bootstrap -->\n",
            "    <script type=\"text/javascript\" src=\"../../static/oscar/js/bootstrap3/bootstrap.min.js\"></script>\n",
            "    <!-- Oscar -->\n",
            "    <script src=\"../../static/oscar/js/oscar/ui.js\" type=\"text/javascript\" charset=\"utf-8\"></script>\n",
            "\n",
            "    <script src=\"../../static/oscar/js/bootstrap-datetimepicker/bootstrap-datetimepicker.js\" type=\"text/javascript\" charset=\"utf-8\"></script>\n",
            "    <script src=\"../../static/oscar/js/bootstrap-datetimepicker/locales/bootstrap-datetimepicker.all.js\" type=\"text/javascript\" charset=\"utf-8\"></script>\n",
            "\n",
            "\n",
            "        \n",
            "        \n",
            "    \n",
            "    \n",
            "\n",
            "    \n",
            "\n",
            "\n",
            "\n",
            "        \n",
            "        <script type=\"text/javascript\">\n",
            "            $(function() {\n",
            "                \n",
            "    \n",
            "    oscar.init();\n",
            "\n",
            "            });\n",
            "        </script>\n",
            "\n",
            "        \n",
            "        <!-- Version: N/A -->\n",
            "        \n",
            "    </body>\n",
            "</html>\n",
            "\n"
          ]
        }
      ],
      "source": [
        "# Q1\n",
        "import requests\n",
        "\n",
        "def download_website(url):\n",
        "    user_agent = {'User-agent': 'Mozilla/5.0'} # with the user agent, we let Python know for which browser version to retrieve the website\n",
        "    request = requests.get(url, headers = user_agent)\n",
        "    source_code = request.text\n",
        "    print(source_code)\n",
        "\n",
        "download_website('https://books.toscrape.com/catalogue/shakespeares-sonnets_989/index.html')"
      ]
    },
    {
      "cell_type": "code",
      "execution_count": null,
      "metadata": {
        "id": "cMrVlMcmwEpH",
        "outputId": "1e6b5375-03dc-46d9-c590-67ab97ff481d"
      },
      "outputs": [
        {
          "name": "stdout",
          "output_type": "stream",
          "text": [
            "Done retrieving https://books.toscrape.com/catalogue/shakespeares-sonnets_989/index.html and saving as website.html\n"
          ]
        }
      ],
      "source": [
        "# Q2\n",
        "import requests\n",
        "\n",
        "def save_website(url, filename):\n",
        "    user_agent = {'User-agent': 'Mozilla/5.0'} # with the user agent, we let Python know for which browser version to retrieve the website\n",
        "    request = requests.get(url, headers = user_agent)\n",
        "    source_code = request.text\n",
        "    f=open(filename, 'w', encoding='utf-8')\n",
        "    f.write(source_code)\n",
        "    f.close()\n",
        "    print(f'Done retrieving {url} and saving as {filename}')\n",
        "\n",
        "save_website('https://books.toscrape.com/catalogue/shakespeares-sonnets_989/index.html', 'website.html')"
      ]
    },
    {
      "cell_type": "code",
      "execution_count": null,
      "metadata": {
        "id": "Pu0P6DqxwEpI",
        "outputId": "8930e97a-34be-4fae-890a-1b1c9ce39411"
      },
      "outputs": [
        {
          "name": "stdout",
          "output_type": "stream",
          "text": [
            "Done retrieving https://books.toscrape.com/catalogue/a-light-in-the-attic_1000/index.html and saving as filename1.html\n",
            "Done retrieving https://books.toscrape.com/catalogue/tipping-the-velvet_999/index.html and saving as filename2.html\n",
            "Done retrieving https://books.toscrape.com/catalogue/soumission_998/index.html and saving as filename3.html\n",
            "Done retrieving https://books.toscrape.com/catalogue/sharp-objects_997/index.html and saving as filename4.html\n"
          ]
        }
      ],
      "source": [
        "# Q3\n",
        "books = [{'url': 'https://books.toscrape.com/catalogue/a-light-in-the-attic_1000/index.html',\n",
        "         'filename': 'filename1.html'},\n",
        "        {'url': 'https://books.toscrape.com/catalogue/tipping-the-velvet_999/index.html',\n",
        "         'filename': 'filename2.html'},\n",
        "        {'url': 'https://books.toscrape.com/catalogue/soumission_998/index.html',\n",
        "         'filename': 'filename3.html'},\n",
        "        {'url': 'https://books.toscrape.com/catalogue/sharp-objects_997/index.html',\n",
        "         'filename': 'filename4.html'}\n",
        "       ]\n",
        "\n",
        "for book in books:\n",
        "    save_website(book['url'], book['filename'])"
      ]
    },
    {
      "cell_type": "markdown",
      "metadata": {
        "id": "AaI1mOeywEpI"
      },
      "source": [
        "---\n",
        "### 1.6 Extracting information from a website's source code using `BeautifulSoup` \n",
        "\n",
        "#### Importance\n",
        "\n",
        "It's useful to store raw data from websites (we will make use of this a lot). But &#150; how can extract specific information from a website, such as a product's title or price? \n",
        "\n",
        "Fortunately, we can make use of the *structured* nature of HTML, by selecting information on the basis of:\n",
        " \n",
        "- tags names (e.g., `<h1>`, `<table>`), or\n",
        "- attributes such as IDs (e.g., `<table id=\"example-table\">`), or class names (e.g., `<table class=\"striped-table\">`)\n",
        "    \n",
        "For now, we'll show you how to apply these concepts using *BeautifulSoup*, a fantastic Python library that allows you to navigate and extract data from HTML files. BeautifulSoup does NOT gather information from the web itself (for this, we still use `requests`, as above). \n",
        "\n",
        "#### Let's try it out\n",
        "First, we import the package `BeautifulSoup` and turn the `book_source_code` (the HTML code from the \"A Light in the Attic\" webpage we used earlier) into BeautifulSoup object. Once converted, we can easily navigate the code by *tag names*, *attribute names*, or *class names*. This process is called __parsing__, and is one of the central tasks in web scraping.\n",
        "\n",
        "Since we know that the title is surrounded by `<h1>` tags (see Google Inspector screenshot above), we use `soup.find('h1')` to parse the title of the book.\n",
        "\n",
        "Please run the following cells to see things in action!\n"
      ]
    },
    {
      "cell_type": "code",
      "execution_count": null,
      "metadata": {
        "id": "13-rDU2UwEpI",
        "outputId": "27a47480-9a7d-4d1f-ffde-9bc388566474"
      },
      "outputs": [
        {
          "name": "stdout",
          "output_type": "stream",
          "text": [
            "<h1>A Light in the Attic</h1>\n"
          ]
        }
      ],
      "source": [
        "from bs4 import BeautifulSoup\n",
        "\n",
        "soup = BeautifulSoup(book_source_code)\n",
        "print(soup.find('h1'))"
      ]
    },
    {
      "cell_type": "markdown",
      "metadata": {
        "id": "klr2iUshwEpI"
      },
      "source": [
        "The `.find()` method will always print out the first matching element that it finds. For example, the web page has two `<h2>` elements which contain the \"Product Description\" and \"Product Information\" subheaders.  Only the first one will be returned by `.find()`:"
      ]
    },
    {
      "cell_type": "code",
      "execution_count": null,
      "metadata": {
        "id": "R_rsPb9TwEpI",
        "outputId": "56f1955c-ff42-4f57-af15-71cd86820586"
      },
      "outputs": [
        {
          "name": "stdout",
          "output_type": "stream",
          "text": [
            "<h2>Product Description</h2>\n"
          ]
        }
      ],
      "source": [
        "print(soup.find('h2'))"
      ]
    },
    {
      "cell_type": "markdown",
      "metadata": {
        "id": "id7hC9oywEpI"
      },
      "source": [
        "To capture __all__ matching `<h2>` elements you use the `find_all()` method like this:"
      ]
    },
    {
      "cell_type": "code",
      "execution_count": null,
      "metadata": {
        "id": "nTOkYkFPwEpI",
        "outputId": "99516fe9-6d34-4802-c181-39d1629f246a"
      },
      "outputs": [
        {
          "name": "stdout",
          "output_type": "stream",
          "text": [
            "[<h2>Product Description</h2>, <h2>Product Information</h2>]\n"
          ]
        }
      ],
      "source": [
        "print(soup.find_all('h2'))"
      ]
    },
    {
      "cell_type": "markdown",
      "metadata": {
        "id": "EaSwKnFtwEpJ"
      },
      "source": [
        "Note that it now returns a list of elements (`[element1, element2]`), so to access individual elements you need to apply indexing (which starts with [0] for the first elements, [1] for the second and so on...)."
      ]
    },
    {
      "cell_type": "code",
      "execution_count": null,
      "metadata": {
        "id": "qjIsEQAKwEpJ",
        "outputId": "02012e43-580f-487c-8e1b-316b2ffe3a49"
      },
      "outputs": [
        {
          "name": "stdout",
          "output_type": "stream",
          "text": [
            "<h2>Product Description</h2>\n",
            "<h2>Product Information</h2>\n",
            "2\n"
          ]
        }
      ],
      "source": [
        "# obtain first h2 element \n",
        "print(soup.find_all('h2')[0])\n",
        "\n",
        "# obtain second h2 element\n",
        "print(soup.find_all('h2')[1])\n",
        "\n",
        "# we can also count the number of elements returned, using the len() function\n",
        "print(len(soup.find_all('h2'))) # will return 2"
      ]
    },
    {
      "cell_type": "markdown",
      "metadata": {
        "id": "K1Y7VZrHwEpJ"
      },
      "source": [
        "Both subheaders are still surrounded by `<h2>` and `</h2>` tags. To get rid of them, append `.get_text()` to your code:"
      ]
    },
    {
      "cell_type": "code",
      "execution_count": null,
      "metadata": {
        "id": "9ZRAkNzmwEpJ",
        "outputId": "016b3746-d1df-4a9f-90a6-6a806a6f82af"
      },
      "outputs": [
        {
          "name": "stdout",
          "output_type": "stream",
          "text": [
            "Product Description\n"
          ]
        }
      ],
      "source": [
        "# sub header without h2 tags\n",
        "print(soup.find_all('h2')[0].get_text())"
      ]
    },
    {
      "cell_type": "markdown",
      "metadata": {
        "id": "DhH1EAJawEpJ"
      },
      "source": [
        "#### Exercise 1.5\n",
        "\n",
        "1. Retrieve the website's source code, and parse the following information (and print them out):\n",
        "    - product title,\n",
        "    - price,\n",
        "    - in-stock availability, and\n",
        "    - the number of stars.\n",
        "    \n",
        "\n",
        "<div class=\"alert alert-block alert-info\"><b>Tips</b>\n",
        "    <br>\n",
        "<ul>\n",
        "    <li>To extract information using class names, use the <code>class_</code> argument in the <code>find()</code> function.<br>\n",
        "        <b>Example:</b> <code>soup.find(class_ = 'class_name_to_find)</code>\n",
        "    </li>\n",
        "    <li>You can also extract information by <b>counting</b> the number of classes. For example, <code>len(soup.find('h2'))</code> returns the number of <code>h2</code> elements on a site.\n",
        "    </li>\n",
        "    <li>\n",
        "        Too much whitespace surrounding your parsed information? Use Python's <code>strip()</code> function, e.g., <code>'   too much whitespace    '.strip()</code>.\n",
        "    </li>\n",
        "</ul>\n",
        " \n",
        "</div>"
      ]
    },
    {
      "cell_type": "code",
      "execution_count": null,
      "metadata": {
        "id": "hZrhxQmOwEpJ"
      },
      "outputs": [],
      "source": [
        "# your answer goes here!"
      ]
    },
    {
      "cell_type": "markdown",
      "metadata": {
        "id": "Wb_iOPUTwEpJ"
      },
      "source": [
        "#### Solutions"
      ]
    },
    {
      "cell_type": "code",
      "execution_count": null,
      "metadata": {
        "id": "haU_2FGzwEpJ",
        "outputId": "0bd22b5e-46a4-4bc7-eaf0-442873599230"
      },
      "outputs": [
        {
          "name": "stdout",
          "output_type": "stream",
          "text": [
            "A Light in the Attic\n",
            "Â£51.77\n",
            "In stock (22 available)\n",
            "5\n"
          ]
        }
      ],
      "source": [
        "# title\n",
        "print(soup.find('h1').get_text())\n",
        "# price\n",
        "print(soup.find(class_='price_color').get_text())\n",
        "# in-stock availability\n",
        "print(soup.find(class_='instock availability').get_text().strip())\n",
        "# number of stars\n",
        "print(len(soup.find_all(class_='icon-star')))"
      ]
    },
    {
      "cell_type": "markdown",
      "metadata": {
        "id": "3KJ7h1EzwEpJ"
      },
      "source": [
        "### 1.7 Writing your complete first web scraper"
      ]
    },
    {
      "cell_type": "markdown",
      "metadata": {
        "id": "E5Tht-FcwEpK"
      },
      "source": [
        "__Exercise 1.6__\n",
        "\n",
        "Now it's time to put in action everything we have learnt so far.\n",
        "\n",
        "- Use the list of four URLs specified above to start your data collection, \n",
        "- Write a loop that stores the raw website data in separate HTML files (storing raw data for diagnostic purposes is very helpful!), \n",
        "- Store the extracted information (title, price, instock availability and number of stars) in a dictionary, that is stored in new-line separated JSON files.\n",
        "\n",
        "<div class=\"alert alert-block alert-info\"><b>Tips</b>\n",
        "    <br>\n",
        "    <ul>\n",
        "        <li>\n",
        "    Copy-paste and then modify the <code>store_website()</code> function from above to handle the two tasks of storing AND extracting information (\"parsing\"). </li>\n",
        "            <li>Make use of the `return()` argument in a function to return the parsed data in a dictionary. </li>\n",
        "        <li>\n",
        "            You can import the json package (<code>import json`</code>`) and use the <code>json.dumps()</code> function to convert the dictionary to writable output data.\n",
        "        </li>\n",
        " \n",
        "</div>\n"
      ]
    },
    {
      "cell_type": "code",
      "execution_count": null,
      "metadata": {
        "id": "na-0hLfPwEpK"
      },
      "outputs": [],
      "source": [
        "# write your code here"
      ]
    },
    {
      "cell_type": "markdown",
      "metadata": {
        "id": "BhDLMA-XwEpK"
      },
      "source": [
        "__Solution__"
      ]
    },
    {
      "cell_type": "code",
      "execution_count": null,
      "metadata": {
        "id": "APJF2wzywEpK",
        "outputId": "c2acef99-86ea-4b5c-c813-089016a017dc"
      },
      "outputs": [
        {
          "name": "stdout",
          "output_type": "stream",
          "text": [
            "Done retrieving https://books.toscrape.com/catalogue/a-light-in-the-attic_1000/index.html and saving as filename1.html\n",
            "Done retrieving https://books.toscrape.com/catalogue/tipping-the-velvet_999/index.html and saving as filename2.html\n",
            "Done retrieving https://books.toscrape.com/catalogue/soumission_998/index.html and saving as filename3.html\n",
            "Done retrieving https://books.toscrape.com/catalogue/sharp-objects_997/index.html and saving as filename4.html\n"
          ]
        }
      ],
      "source": [
        "import requests\n",
        "from bs4 import BeautifulSoup\n",
        "import json\n",
        "\n",
        "books = [{'url': 'https://books.toscrape.com/catalogue/a-light-in-the-attic_1000/index.html',\n",
        "         'filename': 'filename1.html'},\n",
        "        {'url': 'https://books.toscrape.com/catalogue/tipping-the-velvet_999/index.html',\n",
        "         'filename': 'filename2.html'},\n",
        "        {'url': 'https://books.toscrape.com/catalogue/soumission_998/index.html',\n",
        "         'filename': 'filename3.html'},\n",
        "        {'url': 'https://books.toscrape.com/catalogue/sharp-objects_997/index.html',\n",
        "         'filename': 'filename4.html'}\n",
        "       ]\n",
        "\n",
        "def parse_website(url, filename):\n",
        "    user_agent = {'User-agent': 'Mozilla/5.0'} # with the user agent, we let Python know for which browser version to retrieve the website\n",
        "    request = requests.get(url, headers = user_agent)\n",
        "    source_code = request.text\n",
        "    f=open(filename, 'w', encoding='utf-8')\n",
        "    f.write(source_code)\n",
        "    f.close()\n",
        "    \n",
        "    # parse information\n",
        "    soup = BeautifulSoup(source_code)\n",
        "    \n",
        "    # title\n",
        "    title = soup.find('h1').get_text()\n",
        "    price = soup.find(class_='price_color').get_text()\n",
        "    instock = soup.find(class_='instock availability').get_text().strip()\n",
        "    stars = len(soup.find_all(class_='icon-star'))\n",
        "\n",
        "    data = {'title': title,\n",
        "            'price': price,\n",
        "            'instock': instock,\n",
        "            'stars': stars}\n",
        "    \n",
        "    print(f'Done retrieving {url} and saving as {filename}')\n",
        "    \n",
        "    return(data)\n",
        "\n",
        "\n",
        "f=open('book_data.json', 'w', encoding='utf-8')\n",
        "for book in books:\n",
        "    data = parse_website(book['url'], book['filename'])\n",
        "    f.write(json.dumps(data))\n",
        "    f.write('\\n') # new line to separate objects\n",
        "f.close()\n",
        "    "
      ]
    },
    {
      "cell_type": "markdown",
      "metadata": {
        "id": "a6niFqDuwEpK"
      },
      "source": [
        "### 1.8 Wrapping up"
      ]
    },
    {
      "cell_type": "markdown",
      "metadata": {
        "id": "XAx45h_qwEpK"
      },
      "source": [
        "Congrats! You've just learned the first steps in collecting online data from websites! Along with boosting your \"geek\"-factor (wait till you show this to your friends!), you've gained an intuition on how websites are built up (HTML, CSS, JS), how source code translates into a rendered (visual) website (or, in other words, you know how to spoof websites - now, take screenshots and show *that* to your friends...), how websites can be loaded into Python, and how you can use `BeautifulSoup` to extract information using tag or attribute names and classes. Good job!"
      ]
    },
    {
      "cell_type": "markdown",
      "metadata": {
        "id": "tlhJeeV0wEpK"
      },
      "source": [
        "--- \n",
        "\n",
        "## 2. Application Programming Interface (API)\n",
        "\n",
        "\n",
        "### 2.1 What is an API?\n",
        "\n",
        "An equally important data collection method is called Application Programming Interface (API). That's a mouthful, but in essence, it is nothing more than a version of a _website intended for computers, rather than humans, to talk to one another_. \n",
        "\n",
        "APIs are everywhere, and most are used to provide...\n",
        "- data (e.g., retrieve a user name and demographics), \n",
        "- functions (e.g., start playing music from Spotify, turn on your lamps in your \"smart home\"), or \n",
        "- algorithms (e.g., submit an image, retrieve a written text for what's *on* the image).\n",
        "\n",
        "In what follows, we'll introduce you to the API of [Reddit](https://www.reddit.com), a popular American social news aggregation and discussion site. Reddit gives you an up to date view on what's happening around the world, all sorted through a voting system (\"upvotes\") by 1bn.+ users!\n",
        "\n",
        "\n",
        "<div class=\"alert alert-block alert-info\"><b>Tip:</b><br><br>\n",
        "<ul>\n",
        "    <li>Think of Reddit upvotes as a like on Instagram. Posts are arranged based on the number of votes, and those with many upvotes are featured on the homepage. The grey number next to each post represents the sum of votes (= upvotes - downvotes).\n",
        "    </li>\n",
        "    <li>\n",
        "        Each API relies on slightly different ways to access data. The Reddit API is particularly easy, as it only requires you to append <code>.json</code> to a URL from their website. Most other APIs likely have different ways to map content from their websites to API endpoints. Check the API documentation of your data source for information on this!\n",
        "    </li>\n",
        "    </ul>\n",
        "</div>\n",
        "    \n",
        "<img src=\"https://raw.githubusercontent.com/hannesdatta/course-odcm/dev/content/docs/tutorials/webdata-for-dummies/images/reddit_homepage.png\" width=60% align=\"left\"  style=\"border: 1px solid black\"/>\n",
        "\n"
      ]
    },
    {
      "cell_type": "markdown",
      "metadata": {
        "id": "6Y4NWNP-wEpK"
      },
      "source": [
        "### 2.2 How APIs work"
      ]
    },
    {
      "cell_type": "markdown",
      "metadata": {
        "id": "bZhybwYLwEpK"
      },
      "source": [
        "__Importance__\n",
        "\n",
        "APIs work very similar to websites. At the core, instead of obtaining the source code of a (rendered) web site, you obtain code that computers can easily understand to process the content of a website. APIs provide you with simpler and more scalable ways to obtain data, so you really have to understand how they work.\n",
        "\n",
        "__Let's try it out__\n",
        "\n",
        "Consider the screen shot above (a view of the Reddit website). Here's an example of how the output of the Reddit API (click on it to view it in your browser):\n",
        "\n",
        "https://www.reddit.com/r/science/comments/k0bjqt/study_finds_users_not_notifications_initiate_89.json\n",
        "\n",
        "<img src=\"https://raw.githubusercontent.com/hannesdatta/course-odcm/dev/content/docs/tutorials/webdata-for-dummies/images/api_example.png\" width=60% align=\"left\"  style=\"border: 1px solid black\"/>"
      ]
    },
    {
      "cell_type": "markdown",
      "metadata": {
        "id": "BbobiIlWwEpL"
      },
      "source": [
        "*A few things stand out right away:*\n",
        "\n",
        "- the output only contains text, which is structured according to a data structure (e.g., array or list (`[]`) and dictionary (`{}`)), \n",
        "- there's no human interface with buttons, menus, and links, yet...\n",
        "- you can access it like any other website by filling out the URL in your browser (`reddit.com/r/science/...` in this example).\n",
        "\n",
        "In fact, the API output above corresponds to the (visual) Reddit thread, which you can open here:\n",
        "\n",
        "https://www.reddit.com/r/science/comments/k0bjqt/study_finds_users_not_notifications_initiate_89\n",
        "\n",
        "For example, look at the third and fourth line from above, which states the `title` of the post you can also see below on the rendered website.  \n",
        "\n",
        "<img src=\"https://raw.githubusercontent.com/hannesdatta/course-odcm/dev/content/docs/tutorials/webdata-for-dummies/images/reddit.png\" width=60% align=\"left\"  style=\"border: 1px solid black\"/>\n",
        "\n"
      ]
    },
    {
      "cell_type": "markdown",
      "metadata": {
        "id": "OacAny1vwEpL"
      },
      "source": [
        "<div class=\"alert alert-block alert-info\"><b>Tips:</b><br>\n",
        "<ul>\n",
        "    <li>If you have taken a look at the API output, you may conclude that making sense of raw JavaScript Object Notation (JSON) is easier said than done. Fortunately, this <a href='https://chrome.google.com/webstore/detail/json-viewer/gbmdgpbipfallnflgajpaliibnhdgobh'>plugin</a> automatically formats and highlights the output such that it's easier to digest. If your browser does not automatically display JSON data in a \"nice\" way, we recommend installing the Chrome plugin. \n",
        "    </li>\n",
        "    <li>\n",
        "After installation, view the output again. That's much better, right?\n",
        "</li>\n",
        "    </ul>\n",
        "</div>\n",
        "\n",
        "\n",
        "\n"
      ]
    },
    {
      "cell_type": "markdown",
      "metadata": {
        "id": "eKV6uTGQwEpL"
      },
      "source": [
        "#### Exercise 2.1\n",
        "\n",
        "Navigate through the JSON tree structure of the post above and anwer the following questions:\n",
        "\n",
        "1. At the parent level you find two dictionaries at line 5 and 197 (i.e., the blue arrows). Collapse the content and describe in your own words what each dictionary represents. How does it relate to the Reddit HTML page? \n",
        "\n",
        "<img src=\"https://raw.githubusercontent.com/hannesdatta/course-odcm/dev/content/docs/tutorials/webdata-for-dummies/images/reddit_api.gif\" width=70% align=\"left\"  style=\"border: 1px solid black\"/>"
      ]
    },
    {
      "cell_type": "markdown",
      "metadata": {
        "id": "VQuYHUFWwEpL"
      },
      "source": [
        "2. The first comment is from the post author (fotogneric) and has gathered the most points. How many downvotes did this comment get (you find the answer in the JSON output)? \n",
        "\n",
        "3. Suppose that you want to extract the date and time each comment was created. What path do you need to navigate? \n",
        "\n",
        "<div class=\"alert alert-block alert-info\"><b>Tips:</b><br>\n",
        "   <ul> <li>\n",
        "Times are often registered in UTC format, a globally interchangeable time representation (also known as Epoch time). More specifically, it is the number of seconds elapsed since January 1, 1970. It can be used as a universal time scale around the world. \n",
        "    </li>\n",
        "    <li>\n",
        "    Copy-paste the UTC time to an <a href='https://epochconverter.com' target='_blank'>online epoch converter</a> and check whether it corresponds with the date and time on the webpage.\n",
        "    </li>\n",
        "    </ul>\n",
        "</div>\n",
        "\n",
        "\n",
        "\n",
        "\n"
      ]
    },
    {
      "cell_type": "markdown",
      "metadata": {
        "id": "S7UW53LhwEpL"
      },
      "source": [
        "**Your answer**  "
      ]
    },
    {
      "cell_type": "markdown",
      "metadata": {
        "id": "a6GsFG_xwEpL"
      },
      "source": [
        "..."
      ]
    },
    {
      "cell_type": "markdown",
      "metadata": {
        "id": "9vHttX9EwEpL"
      },
      "source": [
        "#### Solutions\n",
        "1. The dictionary that starts at line 5 contains data on the post (title, subreddit, upvote ratio, thumbnail/image, link to article). The other dictionary stores the comments of the post (author, body text, timestamp). \n",
        "2. At the moment of writing this solution (December 2020) the post has 0 downvotes (`'downs': 0`).\n",
        "3. The `created` key stores a large number (e.g., 1606274053) that can be translated into a date and time (for this example: 25 November 2020 03:14 GMT). The corresponding path for the timestamp of the first comment is: `request[1]['data']['children'][0]['data']['created']` (a written description that follows these directions also suffices: first, you take the 2nd element `[1]` in the list, then you choose the `data` key, etc.).\n"
      ]
    },
    {
      "cell_type": "markdown",
      "metadata": {
        "id": "8lyyAbNjwEpL"
      },
      "source": [
        "### 2.2 Inspect data before collection\n",
        "\n",
        "__Importance__\n",
        "\n",
        "Before we proceed to *downloading* data from an API, it is useful to first inspect the corresponding website (if it exists) to get an understanding for what data is available.\n",
        "\n",
        "Here, we zoom in on \"subreddits\" (which are easier to understand than the comments considered earlier). Subreddits are niche communities centered around a particular topic. Users can nearly post anything in these subreddits, and you'd be surprised to find out what people are talking about. For example, see below for a screenshot of the [subreddit on Science](https://www.reddit.com/r/Science).\n",
        "\n",
        "<img src=\"https://raw.githubusercontent.com/hannesdatta/course-odcm/dev/content/docs/tutorials/apis101/images/reddit_science.png\" width=60% align=\"left\"  style=\"border: 1px solid black\"/>\n"
      ]
    },
    {
      "cell_type": "markdown",
      "metadata": {
        "id": "AZccj3obwEpL"
      },
      "source": [
        "__Let's try it out__\n",
        "\n",
        "Subreddits all start with `reddit.com/r/...`. Here are a few examples: [askreddit](https://www.reddit.com/r/AskReddit), [aww](https://www.reddit.com/r/aww/), [gifs](https://www.reddit.com/r/gifs/), [showerthoughts](https://www.reddit.com/r/Showerthoughts), [lifehacks](https://www.reddit.com/r/lifehacks), [getmotivated](https://www.reddit.com/r/GetMotivated), [moviedetails](https://www.reddit.com/r/MovieDetails), [todayilearned](https://www.reddit.com/r/todayilearned/), [foodporn](https://www.reddit.com/r/FoodPorn/).\n",
        "\n",
        "Take your time to browse through some of the subreddits, and get familiar with the structure of the pages."
      ]
    },
    {
      "cell_type": "markdown",
      "metadata": {
        "id": "D1BeXaCYwEpM"
      },
      "source": [
        "#### Exercise 2.2\n",
        "Consult the [`marketing`](https://www.reddit.com/r/marketing/hot/) subreddit and answer the following questions: \n",
        "1. For your thesis, you need to collect survey responses. Are you allowed to share a link to your survey in this subreddit? Please explain how you came to this conclusion. \n",
        "2. You post a link (and wonder how many users will potentially be able to see your post). How many users are subscribed to the subreddit? How many users are currently online?\n",
        "3. Like other social media platforms, you can navigate towards Reddit's user profiles and learn more about these persons. Inspect the profile of a user that has posted in the Subreddit. Describe what types of information you can gather from this user. How is the feed organized?"
      ]
    },
    {
      "cell_type": "code",
      "execution_count": null,
      "metadata": {
        "id": "ZbLRrUakwEpM"
      },
      "outputs": [],
      "source": [
        "# your answer goes here!"
      ]
    },
    {
      "cell_type": "markdown",
      "metadata": {
        "id": "i_BcPwX1wEpM"
      },
      "source": [
        "#### Solutions\n",
        "1. No, the subreddit rules prescribe users not to post surveys and homework assignments (right sidebar).\n",
        "2. `r/marketing` is moderated has about 370k members, and (at the time of writing this tutorial), about 160 of them were online.\n",
        "3. On a user page, you find the bio, trophies, communities the user moderates, connected accounts, and most importantly: all user's posts and comments.\n",
        "\n"
      ]
    },
    {
      "cell_type": "markdown",
      "metadata": {
        "id": "3qcbGsyFwEpM"
      },
      "source": [
        "### 2.3 Retrieving data from the Reddit.com API\n",
        "\n",
        "**Importance**  \n",
        "\n",
        "Many APIs are provided via paid subscriptions, but parts of the Reddit.com API are free to use. To request data from the Reddit API, we need to include `headers` in our HTTP request. Like in web scraping (remember the user agent?), headers contain *meta-data* that are required for the API call to work (e.g., type of browser, language, expected data format, etc.). \n",
        "\n",
        "**Let's try it out**  \n",
        "\n",
        "Below we request the about page of the [`marketing`]() subreddit that includes such a header. We make our first request to the Reddit API and parse the output in the upcoming exercise!\n"
      ]
    },
    {
      "cell_type": "code",
      "execution_count": null,
      "metadata": {
        "id": "9puzG-lBwEpM"
      },
      "outputs": [],
      "source": [
        "import requests\n",
        "url = 'https://www.reddit.com/r/marketing/about/.json'\n",
        "headers = {'authority': 'www.reddit.com', 'cache-control': 'max-age=10', 'upgrade-insecure-requests': '1', 'user-agent': 'Mozilla/5.0 (Macintosh; Intel Mac OS X 10_15_7) AppleWebKit/537.36 (KHTML, like Gecko) Chrome/87.0.4280.88 Safari/537.36', 'accept': 'text/html,application/xhtml+xml,application/xml;q=0.9,image/avif,image/webp,image/apng,*/*;q=0.8,application/signed-exchange;v=b3;q=0.9', 'sec-fetch-site': 'same-origin', 'sec-fetch-mode': 'navigate', 'sec-fetch-user': '?1', 'sec-fetch-dest': 'document', 'accept-language': 'en-GB,en;q=0.9'}\n",
        "response = requests.get(url, headers=headers)\n",
        "json_response = response.json()\n"
      ]
    },
    {
      "cell_type": "markdown",
      "metadata": {
        "id": "CQ6OSgd1wEpM"
      },
      "source": [
        "#### Exercise 2.3\n",
        "1. First, take a look at the `json_response` object. Then, leave out the `headers` parameter in your request (so it becomes `requests.get(url)` instead), rerun the cell, and inspect the `json_response` another time. Are there any differences? \n",
        "2. Write a while-loop that prints the count of the number of currently active users of the `marketing` subreddit. Have your code pause every 5 seconds before refreshing. Stop the loop after 3 iterations. For pausing, use the function `time.sleep(5)`. Import the time package using `import time`.\n",
        "\n",
        "```\n",
        "import time\n",
        "i = 0\n",
        "while i<=3:\n",
        "    print('Starting to collect data, iteration', i+1)\n",
        "    #### YOUR API COLLECTION CODE HERE\n",
        "    print('   waiting 5 seconds...')\n",
        "    time.sleep(5)\n",
        "    i = i + 1\n",
        "\n",
        "```\n",
        "\n",
        "3. Convert your code from the previous exercise into a function `get_usercount()` that takes a `subreddit` as input and returns the total number of users, and the number of currently active users as a dictionary. Test your function for the `science`, `skateboarding`, and `marketing` subreddits. How many total and currently active users do these communities have?\n"
      ]
    },
    {
      "cell_type": "code",
      "execution_count": null,
      "metadata": {
        "id": "RAWMSj3QwEpM"
      },
      "outputs": [],
      "source": [
        "# your answer goes here!\n"
      ]
    },
    {
      "cell_type": "markdown",
      "metadata": {
        "id": "uF0x5enMwEpM"
      },
      "source": [
        "#### Solutions\n",
        "1. Without the `headers` parameter, the API returns an error code (429). Headers are frequently used to track who is using the API. The user of the \"anonymous header\" has pushed the boundaries too much!\n"
      ]
    },
    {
      "cell_type": "code",
      "execution_count": null,
      "metadata": {
        "id": "SZQi3ay4wEpM"
      },
      "outputs": [],
      "source": [
        "# Question 2 \n",
        "import time\n",
        "\n",
        "i = 1\n",
        "while i <= 3:\n",
        "    url = 'https://www.reddit.com/r/marketing/about/.json'\n",
        "    headers = {'authority': 'www.reddit.com', 'cache-control': 'max-age=10', 'upgrade-insecure-requests': '1', 'user-agent': 'Mozilla/5.0 (Macintosh; Intel Mac OS X 10_15_7) AppleWebKit/537.36 (KHTML, like Gecko) Chrome/87.0.4280.88 Safari/537.36', 'accept': 'text/html,application/xhtml+xml,application/xml;q=0.9,image/avif,image/webp,image/apng,*/*;q=0.8,application/signed-exchange;v=b3;q=0.9', 'sec-fetch-site': 'same-origin', 'sec-fetch-mode': 'navigate', 'sec-fetch-user': '?1', 'sec-fetch-dest': 'document', 'accept-language': 'en-GB,en;q=0.9'}\n",
        "    response = requests.get(url, headers=headers)\n",
        "    json_response = response.json()\n",
        "    \n",
        "    print(json_response['data']['active_user_count'])\n",
        "    i += 1\n",
        "    time.sleep(5)"
      ]
    },
    {
      "cell_type": "code",
      "execution_count": null,
      "metadata": {
        "id": "qpbFQwzewEpN",
        "outputId": "935a22ba-72bb-48bb-f78e-5d3cd8fc748d"
      },
      "outputs": [
        {
          "data": {
            "text/plain": [
              "{'subreddit': 'science', 'total_users': 27867629, 'active_users': 6752}"
            ]
          },
          "execution_count": 90,
          "metadata": {},
          "output_type": "execute_result"
        }
      ],
      "source": [
        "# Question 3\n",
        "def get_usercount(subreddit):\n",
        "    response = response = requests.get(f'https://www.reddit.com/r/{subreddit}/about/.json', headers=headers)\n",
        "    json_response = response.json()\n",
        "    out = {}\n",
        "    out['subreddit'] = subreddit\n",
        "    out['total_users'] = json_response['data']['subscribers']\n",
        "    out['active_users'] = json_response['data']['active_user_count']\n",
        "    return out\n",
        "    \n",
        "get_usercount('science')"
      ]
    },
    {
      "cell_type": "code",
      "execution_count": null,
      "metadata": {
        "id": "Rj1mDL6VwEpN",
        "outputId": "94574fda-5ef6-4002-ba6d-b26b8dd83292"
      },
      "outputs": [
        {
          "data": {
            "text/plain": [
              "{'subreddit': 'skateboarding', 'total_users': 451981, 'active_users': 174}"
            ]
          },
          "execution_count": 91,
          "metadata": {},
          "output_type": "execute_result"
        }
      ],
      "source": [
        "get_usercount('skateboarding')"
      ]
    },
    {
      "cell_type": "code",
      "execution_count": null,
      "metadata": {
        "id": "MUTqlkr7wEpN",
        "outputId": "e963e650-7268-40c5-89a9-555f52934c80"
      },
      "outputs": [
        {
          "data": {
            "text/plain": [
              "{'subreddit': 'marketing', 'total_users': 420332, 'active_users': 200}"
            ]
          },
          "execution_count": 92,
          "metadata": {},
          "output_type": "execute_result"
        }
      ],
      "source": [
        "get_usercount('marketing')\n"
      ]
    },
    {
      "cell_type": "markdown",
      "metadata": {
        "id": "eHcHtNsYwEpN"
      },
      "source": [
        "### 2.4 Retrieving data for multiple subreddits\n",
        "\n",
        "__Importance__\n",
        "\n",
        "Remember the website scraper above? At the end of the scraping exercises, we iterated through a list of books to retrieve data. Here, we do the same for the API `about` endpoint. Iterating through an API endpoint for multiple \"seeds\" (or sampling units) is at the core of each data extraction task. \n",
        "\n",
        "__Try it out__\n",
        "\n",
        "Run the following cell, to see how looping through a set of subreddits works like. Do you see similarities to the scraping example introduced earlier? Exactly: the concept is entirely the same.\n"
      ]
    },
    {
      "cell_type": "code",
      "execution_count": null,
      "metadata": {
        "id": "imlSkt4IwEpN",
        "outputId": "489ccf42-4ca8-4b1a-a311-b14dcb469aa8"
      },
      "outputs": [
        {
          "name": "stdout",
          "output_type": "stream",
          "text": [
            "{'subreddit': 'science', 'total_users': 27867638, 'active_users': 6035}\n",
            "{'subreddit': 'skateboarding', 'total_users': 451982, 'active_users': 161}\n",
            "{'subreddit': 'marketing', 'total_users': 420334, 'active_users': 222}\n"
          ]
        }
      ],
      "source": [
        "subreddits = ['science', 'skateboarding', 'marketing']\n",
        "\n",
        "for sub in subreddits:\n",
        "    print(get_usercount(sub))"
      ]
    },
    {
      "cell_type": "markdown",
      "metadata": {
        "id": "Jm7Y-i1CwEpN"
      },
      "source": [
        "__Exercise 2.4__\n",
        "\n",
        "1. Extend the list of subreddits to at least 10 (by browsing the site and taking some subreddits you're interested in)\n",
        "2. Write a function to return the current timestamp in UNIX/Epoch time and readable time. Append the timestamp information to each retrieved JSON object. Storing the timestamp of retrieval, along with the actual data, will help you to later match the data to other datasets across time.\n",
        "```\n",
        "# retrieving current timestamp (from https://www.geeksforgeeks.org/get-current-timestamp-using-python/)\n",
        "import datetime\n",
        "# ct stores current time\n",
        "ct = datetime.datetime.now()\n",
        "print(\"current time:\", ct)\n",
        "# ts store timestamp of current time\n",
        "ts = ct.timestamp()\n",
        "print(\"timestamp:\", int(ts))\n",
        "```\n",
        "3. Write a `for` loop through your subreddits, and store all of the retrieved data in a file called `subreddits.json`. When rerunning the code the data may not be overwritten! (so, try running the code a couple of times)."
      ]
    },
    {
      "cell_type": "code",
      "execution_count": null,
      "metadata": {
        "id": "nspBBKsAwEpN"
      },
      "outputs": [],
      "source": [
        "# your solutions here"
      ]
    },
    {
      "cell_type": "markdown",
      "metadata": {
        "id": "ou7XHB9vwEpN"
      },
      "source": [
        "__Solution__"
      ]
    },
    {
      "cell_type": "code",
      "execution_count": null,
      "metadata": {
        "id": "aGBAY06GwEpO"
      },
      "outputs": [],
      "source": [
        "# Q1 (added just a few more here...)\n",
        "subreddits = ['science', 'skateboarding', 'marketing', 'music', 'beach']\n",
        "\n",
        "# Q2\n",
        "import datetime\n",
        "\n",
        "def get_time():\n",
        "    # ct stores current time\n",
        "    ct = datetime.datetime.now()\n",
        "    # ts store timestamp of current time\n",
        "    ts = ct.timestamp()\n",
        "    return({'current_time': ct,\n",
        "           'timestamp': ts})\n",
        "\n",
        "get_time()\n",
        "get_time()['timestamp'] # e.g., for only the UNIX timestamp\n",
        "\n",
        "# Q3\n",
        "\n",
        "import json\n",
        "\n",
        "f = open('subreddits.json', 'a', encoding = 'utf-8')\n",
        "\n",
        "for sub in subreddits:\n",
        "    data = get_usercount(sub)\n",
        "    data['retrieval_timestamp'] = int(get_time()['timestamp'])\n",
        "    f.write(json.dumps(data))\n",
        "    f.write('\\n')\n",
        "\n",
        "f.close()"
      ]
    },
    {
      "cell_type": "markdown",
      "metadata": {
        "id": "2DQ6AkBpwEpO"
      },
      "source": [
        "### 2.5 Wrap up: APIs versus web scrapers\n",
        "\n",
        "Now that you understand what APIs are, you may rightfully wonder: why should I learn APIs when I could scrape the elements from the website instead (like the book webshop)?\n",
        "\n",
        "- One of the major advantages of APIs is that you can directly access the data you need *without all the hassle of selecting the right HTML tags*. \n",
        "\n",
        "- Another advantage is that you can often customize your API request (e.g., the first 100 comments or only posts about science), which may not always be possible in the web interface. \n",
        "\n",
        "- Using APIs is a legit way to get access to website data (mostly, you will have to pay a license fee to use APIs!). So it's a more stable and legit way to retrieve web data compared to web scraping. That's also why we recommend using an API whenever possible. \n",
        "\n",
        "- In practice, though, APIs really can't give you all the data you possibly want, and web scraping allows you to access complementary data (e.g., viewable on a website or somewhere hidden in the source code).\n",
        "\n",
        "More commonalities and differences are also shown in Web Appendix of [\"Fields of Gold\"](https://doi.org/10.1177%2F00222429221100750), Table W1.\n",
        "\n",
        "Happy scraping!\n"
      ]
    },
    {
      "cell_type": "markdown",
      "metadata": {
        "id": "NyJXegvNwEpO"
      },
      "source": [
        "## After-class exercises\n"
      ]
    },
    {
      "cell_type": "markdown",
      "metadata": {
        "id": "GtNgXeFUwEpO"
      },
      "source": [
        "### Exercise 1\n",
        "\n",
        "Up to this moment, we have only parsed some attributes from the book pages. In this exercise, please try to parse all relevant data from the book pages, e.g.\n",
        "\n",
        "- product description\n",
        "- UPC\n",
        "- number of reviews\n",
        "\n",
        "Use the code written for exercise 1.6 in web data for dummies as a starter.\n",
        "\n",
        "Then, append the time stamp of data collection (used in the API part of the webdata for dummies tutorial), and add it to the generated dataset.\n"
      ]
    },
    {
      "cell_type": "markdown",
      "metadata": {
        "id": "qB7AIv-8wEpO"
      },
      "source": [
        "### Exercise 2"
      ]
    },
    {
      "cell_type": "markdown",
      "metadata": {
        "id": "HJXZ9QGpwEpO"
      },
      "source": [
        "So far, we have used Jupyter Notebook to execute our code. But, what if you wanted to *schedule and automatically run* your data extraction (e.g., even when you are asleep)?\n",
        "\n",
        "1. Copy your code written in (3) of exercise 2.4 in web data for dummies to a `.py` file, and execute it \n",
        "from the terminal (`python myscript.py`). \n",
        "\n",
        "2. Work through the scheduling tutorial on [Tilburg Science Hub](https://tilburgsciencehub.com/schedule/task/?utm_campaign=referral-short).\n",
        "\n",
        "3. Combine 1 & 2 to automatically schedule the extraction of the API data, every 10 minutes, for a duration of 2 hours\n",
        "\n",
        "4. Open the downloaded `.json` data using the `pandas` package and provide some summary statistics:\n",
        "    \n",
        "    - number of unique subreddits\n",
        "    - number of times each subreddit was scraped\n",
        "    - start and end timestamp of the scraper\n",
        "    - average active users per subreddit\n",
        "\n",
        "```\n",
        "# snippet to load the data into Python\n",
        "import pandas as pd\n",
        "pd.read_json('subreddits.json', lines = True)\n",
        "```"
      ]
    },
    {
      "cell_type": "code",
      "execution_count": null,
      "metadata": {
        "id": "O3_DYkBqwEpO"
      },
      "outputs": [],
      "source": []
    }
  ],
  "metadata": {
    "kernelspec": {
      "display_name": "Python 3",
      "language": "python",
      "name": "python3"
    },
    "language_info": {
      "codemirror_mode": {
        "name": "ipython",
        "version": 3
      },
      "file_extension": ".py",
      "mimetype": "text/x-python",
      "name": "python",
      "nbconvert_exporter": "python",
      "pygments_lexer": "ipython3",
      "version": "3.8.3"
    },
    "colab": {
      "provenance": []
    }
  },
  "nbformat": 4,
  "nbformat_minor": 0
}